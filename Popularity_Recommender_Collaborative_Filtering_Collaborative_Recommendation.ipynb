{
  "cells": [
    {
      "cell_type": "markdown",
      "source": [
        "## Personalized Recommendation System Using Different Algorithms"
      ],
      "metadata": {
        "id": "K3HlsFdvXIoi"
      }
    },
    {
      "cell_type": "markdown",
      "metadata": {
        "id": "VhcVhtcWTun4"
      },
      "source": [
        "## Importing Libraries"
      ]
    },
    {
      "cell_type": "code",
      "execution_count": null,
      "metadata": {
        "id": "GDYrY1r1Tun4"
      },
      "outputs": [],
      "source": [
        "#import the reqired libraries\n",
        "import numpy as np\n",
        "import pandas as pd\n",
        "import seaborn as sns\n",
        "import matplotlib.pyplot as plt\n",
        "from sklearn.model_selection import train_test_split\n",
        "import random\n",
        "from scipy.sparse.linalg import svds\n",
        "import warnings; warnings.simplefilter('ignore')"
      ]
    },
    {
      "cell_type": "markdown",
      "metadata": {
        "id": "Le6btkhATun5"
      },
      "source": [
        "##  Extract the dataset"
      ]
    },
    {
      "cell_type": "code",
      "execution_count": null,
      "metadata": {
        "id": "PlIaP7phTun5"
      },
      "outputs": [],
      "source": [
        "df_elec=pd.read_csv(\"datasets/electronics.csv\")\n",
        "df_cloth=pd.read_csv(\"datasets/modcloth.csv\")"
      ]
    },
    {
      "cell_type": "markdown",
      "metadata": {
        "id": "1pvQ671hTun5"
      },
      "source": [
        "### Electronics"
      ]
    },
    {
      "cell_type": "code",
      "execution_count": null,
      "metadata": {
        "id": "stDQx1t-Tun5",
        "outputId": "27bdf63e-b0f7-433f-cbf3-d3404c3a9531"
      },
      "outputs": [
        {
          "data": {
            "text/html": [
              "<div>\n",
              "<style scoped>\n",
              "    .dataframe tbody tr th:only-of-type {\n",
              "        vertical-align: middle;\n",
              "    }\n",
              "\n",
              "    .dataframe tbody tr th {\n",
              "        vertical-align: top;\n",
              "    }\n",
              "\n",
              "    .dataframe thead th {\n",
              "        text-align: right;\n",
              "    }\n",
              "</style>\n",
              "<table border=\"1\" class=\"dataframe\">\n",
              "  <thead>\n",
              "    <tr style=\"text-align: right;\">\n",
              "      <th></th>\n",
              "      <th>item_id</th>\n",
              "      <th>user_id</th>\n",
              "      <th>rating</th>\n",
              "      <th>timestamp</th>\n",
              "      <th>model_attr</th>\n",
              "      <th>category</th>\n",
              "      <th>brand</th>\n",
              "      <th>year</th>\n",
              "      <th>user_attr</th>\n",
              "      <th>split</th>\n",
              "    </tr>\n",
              "  </thead>\n",
              "  <tbody>\n",
              "    <tr>\n",
              "      <th>0</th>\n",
              "      <td>0</td>\n",
              "      <td>0</td>\n",
              "      <td>5.0</td>\n",
              "      <td>1999-06-13</td>\n",
              "      <td>Female</td>\n",
              "      <td>Portable Audio &amp; Video</td>\n",
              "      <td>NaN</td>\n",
              "      <td>1999</td>\n",
              "      <td>NaN</td>\n",
              "      <td>0</td>\n",
              "    </tr>\n",
              "    <tr>\n",
              "      <th>1</th>\n",
              "      <td>0</td>\n",
              "      <td>1</td>\n",
              "      <td>5.0</td>\n",
              "      <td>1999-06-14</td>\n",
              "      <td>Female</td>\n",
              "      <td>Portable Audio &amp; Video</td>\n",
              "      <td>NaN</td>\n",
              "      <td>1999</td>\n",
              "      <td>NaN</td>\n",
              "      <td>0</td>\n",
              "    </tr>\n",
              "    <tr>\n",
              "      <th>2</th>\n",
              "      <td>0</td>\n",
              "      <td>2</td>\n",
              "      <td>3.0</td>\n",
              "      <td>1999-06-17</td>\n",
              "      <td>Female</td>\n",
              "      <td>Portable Audio &amp; Video</td>\n",
              "      <td>NaN</td>\n",
              "      <td>1999</td>\n",
              "      <td>NaN</td>\n",
              "      <td>0</td>\n",
              "    </tr>\n",
              "    <tr>\n",
              "      <th>3</th>\n",
              "      <td>0</td>\n",
              "      <td>3</td>\n",
              "      <td>1.0</td>\n",
              "      <td>1999-07-01</td>\n",
              "      <td>Female</td>\n",
              "      <td>Portable Audio &amp; Video</td>\n",
              "      <td>NaN</td>\n",
              "      <td>1999</td>\n",
              "      <td>NaN</td>\n",
              "      <td>0</td>\n",
              "    </tr>\n",
              "    <tr>\n",
              "      <th>4</th>\n",
              "      <td>0</td>\n",
              "      <td>4</td>\n",
              "      <td>2.0</td>\n",
              "      <td>1999-07-06</td>\n",
              "      <td>Female</td>\n",
              "      <td>Portable Audio &amp; Video</td>\n",
              "      <td>NaN</td>\n",
              "      <td>1999</td>\n",
              "      <td>NaN</td>\n",
              "      <td>0</td>\n",
              "    </tr>\n",
              "  </tbody>\n",
              "</table>\n",
              "</div>"
            ],
            "text/plain": [
              "   item_id  user_id  rating   timestamp model_attr                category  \\\n",
              "0        0        0     5.0  1999-06-13     Female  Portable Audio & Video   \n",
              "1        0        1     5.0  1999-06-14     Female  Portable Audio & Video   \n",
              "2        0        2     3.0  1999-06-17     Female  Portable Audio & Video   \n",
              "3        0        3     1.0  1999-07-01     Female  Portable Audio & Video   \n",
              "4        0        4     2.0  1999-07-06     Female  Portable Audio & Video   \n",
              "\n",
              "  brand  year user_attr  split  \n",
              "0   NaN  1999       NaN      0  \n",
              "1   NaN  1999       NaN      0  \n",
              "2   NaN  1999       NaN      0  \n",
              "3   NaN  1999       NaN      0  \n",
              "4   NaN  1999       NaN      0  "
            ]
          },
          "execution_count": 3,
          "metadata": {},
          "output_type": "execute_result"
        }
      ],
      "source": [
        "df_elec.head()"
      ]
    },
    {
      "cell_type": "markdown",
      "metadata": {
        "id": "Wleqq0-vTun6"
      },
      "source": [
        "as you can see electronics dataframe we are mainly concentrating on item_id, user_id and rating columns\n",
        "* **item_id** => item_id is the unique id of the each item\n",
        "* **user_id** => Each user is represented by a unique id\n",
        "* **rating**    => The rating of item which user has given"
      ]
    },
    {
      "cell_type": "code",
      "execution_count": null,
      "metadata": {
        "id": "ZnF_i8mpTun6",
        "outputId": "775e219d-f058-41ed-ced3-7287267fa9ef"
      },
      "outputs": [
        {
          "name": "stdout",
          "output_type": "stream",
          "text": [
            "Shape:  (1292954, 10) \n",
            "\n",
            "<class 'pandas.core.frame.DataFrame'>\n",
            "RangeIndex: 1292954 entries, 0 to 1292953\n",
            "Data columns (total 10 columns):\n",
            "item_id       1292954 non-null int64\n",
            "user_id       1292954 non-null int64\n",
            "rating        1292954 non-null float64\n",
            "timestamp     1292954 non-null object\n",
            "model_attr    1292954 non-null object\n",
            "category      1292954 non-null object\n",
            "brand         331120 non-null object\n",
            "year          1292954 non-null int64\n",
            "user_attr     174124 non-null object\n",
            "split         1292954 non-null int64\n",
            "dtypes: float64(1), int64(4), object(5)\n",
            "memory usage: 98.6+ MB\n"
          ]
        }
      ],
      "source": [
        "print('Shape: ', df_elec.shape, '\\n')\n",
        "df_elec.info()"
      ]
    },
    {
      "cell_type": "markdown",
      "metadata": {
        "id": "WkR_ADNOTun6"
      },
      "source": [
        "###  Clothing"
      ]
    },
    {
      "cell_type": "code",
      "execution_count": null,
      "metadata": {
        "id": "I9CF5l5fTun6",
        "outputId": "eb735213-39bb-4fc1-b330-1fc34ecc297e"
      },
      "outputs": [
        {
          "data": {
            "text/html": [
              "<div>\n",
              "<style scoped>\n",
              "    .dataframe tbody tr th:only-of-type {\n",
              "        vertical-align: middle;\n",
              "    }\n",
              "\n",
              "    .dataframe tbody tr th {\n",
              "        vertical-align: top;\n",
              "    }\n",
              "\n",
              "    .dataframe thead th {\n",
              "        text-align: right;\n",
              "    }\n",
              "</style>\n",
              "<table border=\"1\" class=\"dataframe\">\n",
              "  <thead>\n",
              "    <tr style=\"text-align: right;\">\n",
              "      <th></th>\n",
              "      <th>item_id</th>\n",
              "      <th>user_id</th>\n",
              "      <th>rating</th>\n",
              "      <th>timestamp</th>\n",
              "      <th>size</th>\n",
              "      <th>fit</th>\n",
              "      <th>user_attr</th>\n",
              "      <th>model_attr</th>\n",
              "      <th>category</th>\n",
              "      <th>brand</th>\n",
              "      <th>year</th>\n",
              "      <th>split</th>\n",
              "    </tr>\n",
              "  </thead>\n",
              "  <tbody>\n",
              "    <tr>\n",
              "      <th>0</th>\n",
              "      <td>7443</td>\n",
              "      <td>Alex</td>\n",
              "      <td>4</td>\n",
              "      <td>2010-01-21 08:00:00+00:00</td>\n",
              "      <td>NaN</td>\n",
              "      <td>NaN</td>\n",
              "      <td>Small</td>\n",
              "      <td>Small</td>\n",
              "      <td>Dresses</td>\n",
              "      <td>NaN</td>\n",
              "      <td>2012</td>\n",
              "      <td>0</td>\n",
              "    </tr>\n",
              "    <tr>\n",
              "      <th>1</th>\n",
              "      <td>7443</td>\n",
              "      <td>carolyn.agan</td>\n",
              "      <td>3</td>\n",
              "      <td>2010-01-27 08:00:00+00:00</td>\n",
              "      <td>NaN</td>\n",
              "      <td>NaN</td>\n",
              "      <td>NaN</td>\n",
              "      <td>Small</td>\n",
              "      <td>Dresses</td>\n",
              "      <td>NaN</td>\n",
              "      <td>2012</td>\n",
              "      <td>0</td>\n",
              "    </tr>\n",
              "    <tr>\n",
              "      <th>2</th>\n",
              "      <td>7443</td>\n",
              "      <td>Robyn</td>\n",
              "      <td>4</td>\n",
              "      <td>2010-01-29 08:00:00+00:00</td>\n",
              "      <td>NaN</td>\n",
              "      <td>NaN</td>\n",
              "      <td>Small</td>\n",
              "      <td>Small</td>\n",
              "      <td>Dresses</td>\n",
              "      <td>NaN</td>\n",
              "      <td>2012</td>\n",
              "      <td>0</td>\n",
              "    </tr>\n",
              "    <tr>\n",
              "      <th>3</th>\n",
              "      <td>7443</td>\n",
              "      <td>De</td>\n",
              "      <td>4</td>\n",
              "      <td>2010-02-13 08:00:00+00:00</td>\n",
              "      <td>NaN</td>\n",
              "      <td>NaN</td>\n",
              "      <td>NaN</td>\n",
              "      <td>Small</td>\n",
              "      <td>Dresses</td>\n",
              "      <td>NaN</td>\n",
              "      <td>2012</td>\n",
              "      <td>0</td>\n",
              "    </tr>\n",
              "    <tr>\n",
              "      <th>4</th>\n",
              "      <td>7443</td>\n",
              "      <td>tasha</td>\n",
              "      <td>4</td>\n",
              "      <td>2010-02-18 08:00:00+00:00</td>\n",
              "      <td>NaN</td>\n",
              "      <td>NaN</td>\n",
              "      <td>Small</td>\n",
              "      <td>Small</td>\n",
              "      <td>Dresses</td>\n",
              "      <td>NaN</td>\n",
              "      <td>2012</td>\n",
              "      <td>0</td>\n",
              "    </tr>\n",
              "  </tbody>\n",
              "</table>\n",
              "</div>"
            ],
            "text/plain": [
              "   item_id       user_id  rating                  timestamp  size  fit  \\\n",
              "0     7443          Alex       4  2010-01-21 08:00:00+00:00   NaN  NaN   \n",
              "1     7443  carolyn.agan       3  2010-01-27 08:00:00+00:00   NaN  NaN   \n",
              "2     7443         Robyn       4  2010-01-29 08:00:00+00:00   NaN  NaN   \n",
              "3     7443            De       4  2010-02-13 08:00:00+00:00   NaN  NaN   \n",
              "4     7443         tasha       4  2010-02-18 08:00:00+00:00   NaN  NaN   \n",
              "\n",
              "  user_attr model_attr category brand  year  split  \n",
              "0     Small      Small  Dresses   NaN  2012      0  \n",
              "1       NaN      Small  Dresses   NaN  2012      0  \n",
              "2     Small      Small  Dresses   NaN  2012      0  \n",
              "3       NaN      Small  Dresses   NaN  2012      0  \n",
              "4     Small      Small  Dresses   NaN  2012      0  "
            ]
          },
          "execution_count": 5,
          "metadata": {},
          "output_type": "execute_result"
        }
      ],
      "source": [
        "df_cloth.head()"
      ]
    },
    {
      "cell_type": "code",
      "execution_count": null,
      "metadata": {
        "id": "ikUVu3_STun7",
        "outputId": "a3c7e8f4-f77c-4fb0-8947-d1e518ebcae8"
      },
      "outputs": [
        {
          "name": "stdout",
          "output_type": "stream",
          "text": [
            "Shape:  (99893, 12) \n",
            "\n",
            "<class 'pandas.core.frame.DataFrame'>\n",
            "RangeIndex: 99893 entries, 0 to 99892\n",
            "Data columns (total 12 columns):\n",
            "item_id       99893 non-null int64\n",
            "user_id       99892 non-null object\n",
            "rating        99893 non-null int64\n",
            "timestamp     99893 non-null object\n",
            "size          78133 non-null float64\n",
            "fit           81387 non-null object\n",
            "user_attr     91526 non-null object\n",
            "model_attr    99893 non-null object\n",
            "category      99893 non-null object\n",
            "brand         25913 non-null object\n",
            "year          99893 non-null int64\n",
            "split         99893 non-null int64\n",
            "dtypes: float64(1), int64(4), object(7)\n",
            "memory usage: 9.1+ MB\n"
          ]
        }
      ],
      "source": [
        "print('Shape: ', df_cloth.shape, '\\n')\n",
        "df_cloth.info()"
      ]
    },
    {
      "cell_type": "markdown",
      "metadata": {
        "id": "EBL0iIPXTun7"
      },
      "source": [
        "## Replacing user_id with Numbers"
      ]
    },
    {
      "cell_type": "code",
      "execution_count": null,
      "metadata": {
        "id": "lAT2T4FyTun7",
        "outputId": "620ab3b4-fbd9-4cdb-cb22-b528e4bd9608"
      },
      "outputs": [
        {
          "data": {
            "text/html": [
              "<div>\n",
              "<style scoped>\n",
              "    .dataframe tbody tr th:only-of-type {\n",
              "        vertical-align: middle;\n",
              "    }\n",
              "\n",
              "    .dataframe tbody tr th {\n",
              "        vertical-align: top;\n",
              "    }\n",
              "\n",
              "    .dataframe thead th {\n",
              "        text-align: right;\n",
              "    }\n",
              "</style>\n",
              "<table border=\"1\" class=\"dataframe\">\n",
              "  <thead>\n",
              "    <tr style=\"text-align: right;\">\n",
              "      <th></th>\n",
              "      <th>item_id</th>\n",
              "      <th>user_id</th>\n",
              "      <th>rating</th>\n",
              "      <th>timestamp</th>\n",
              "      <th>size</th>\n",
              "      <th>fit</th>\n",
              "      <th>user_attr</th>\n",
              "      <th>model_attr</th>\n",
              "      <th>category</th>\n",
              "      <th>brand</th>\n",
              "      <th>year</th>\n",
              "      <th>split</th>\n",
              "    </tr>\n",
              "  </thead>\n",
              "  <tbody>\n",
              "    <tr>\n",
              "      <th>0</th>\n",
              "      <td>7443</td>\n",
              "      <td>1157633</td>\n",
              "      <td>4</td>\n",
              "      <td>2010-01-21 08:00:00+00:00</td>\n",
              "      <td>NaN</td>\n",
              "      <td>NaN</td>\n",
              "      <td>Small</td>\n",
              "      <td>Small</td>\n",
              "      <td>Dresses</td>\n",
              "      <td>NaN</td>\n",
              "      <td>2012</td>\n",
              "      <td>0</td>\n",
              "    </tr>\n",
              "    <tr>\n",
              "      <th>1</th>\n",
              "      <td>7443</td>\n",
              "      <td>1157634</td>\n",
              "      <td>3</td>\n",
              "      <td>2010-01-27 08:00:00+00:00</td>\n",
              "      <td>NaN</td>\n",
              "      <td>NaN</td>\n",
              "      <td>NaN</td>\n",
              "      <td>Small</td>\n",
              "      <td>Dresses</td>\n",
              "      <td>NaN</td>\n",
              "      <td>2012</td>\n",
              "      <td>0</td>\n",
              "    </tr>\n",
              "    <tr>\n",
              "      <th>2</th>\n",
              "      <td>7443</td>\n",
              "      <td>1157635</td>\n",
              "      <td>4</td>\n",
              "      <td>2010-01-29 08:00:00+00:00</td>\n",
              "      <td>NaN</td>\n",
              "      <td>NaN</td>\n",
              "      <td>Small</td>\n",
              "      <td>Small</td>\n",
              "      <td>Dresses</td>\n",
              "      <td>NaN</td>\n",
              "      <td>2012</td>\n",
              "      <td>0</td>\n",
              "    </tr>\n",
              "    <tr>\n",
              "      <th>3</th>\n",
              "      <td>7443</td>\n",
              "      <td>1157636</td>\n",
              "      <td>4</td>\n",
              "      <td>2010-02-13 08:00:00+00:00</td>\n",
              "      <td>NaN</td>\n",
              "      <td>NaN</td>\n",
              "      <td>NaN</td>\n",
              "      <td>Small</td>\n",
              "      <td>Dresses</td>\n",
              "      <td>NaN</td>\n",
              "      <td>2012</td>\n",
              "      <td>0</td>\n",
              "    </tr>\n",
              "    <tr>\n",
              "      <th>4</th>\n",
              "      <td>7443</td>\n",
              "      <td>1157637</td>\n",
              "      <td>4</td>\n",
              "      <td>2010-02-18 08:00:00+00:00</td>\n",
              "      <td>NaN</td>\n",
              "      <td>NaN</td>\n",
              "      <td>Small</td>\n",
              "      <td>Small</td>\n",
              "      <td>Dresses</td>\n",
              "      <td>NaN</td>\n",
              "      <td>2012</td>\n",
              "      <td>0</td>\n",
              "    </tr>\n",
              "  </tbody>\n",
              "</table>\n",
              "</div>"
            ],
            "text/plain": [
              "   item_id  user_id  rating                  timestamp  size  fit user_attr  \\\n",
              "0     7443  1157633       4  2010-01-21 08:00:00+00:00   NaN  NaN     Small   \n",
              "1     7443  1157634       3  2010-01-27 08:00:00+00:00   NaN  NaN       NaN   \n",
              "2     7443  1157635       4  2010-01-29 08:00:00+00:00   NaN  NaN     Small   \n",
              "3     7443  1157636       4  2010-02-13 08:00:00+00:00   NaN  NaN       NaN   \n",
              "4     7443  1157637       4  2010-02-18 08:00:00+00:00   NaN  NaN     Small   \n",
              "\n",
              "  model_attr category brand  year  split  \n",
              "0      Small  Dresses   NaN  2012      0  \n",
              "1      Small  Dresses   NaN  2012      0  \n",
              "2      Small  Dresses   NaN  2012      0  \n",
              "3      Small  Dresses   NaN  2012      0  \n",
              "4      Small  Dresses   NaN  2012      0  "
            ]
          },
          "execution_count": 7,
          "metadata": {},
          "output_type": "execute_result"
        }
      ],
      "source": [
        "# replacing user_id with numbers in modcloth dataset\n",
        "encode={}\n",
        "li=[]\n",
        "# last user_id of electronics dataset\n",
        "last_id=1157632\n",
        "for i in df_cloth['user_id']:\n",
        "    if i in encode.keys():\n",
        "        li.append(encode[i])\n",
        "        continue\n",
        "    last_id+=1\n",
        "    encode[i]=last_id\n",
        "    li.append(last_id)\n",
        "df_cloth['user_id']=li\n",
        "df_cloth.head()"
      ]
    },
    {
      "cell_type": "code",
      "execution_count": null,
      "metadata": {
        "id": "QTTcG1vcTun7",
        "outputId": "121199cf-c482-4a16-c575-f7777b0c5394"
      },
      "outputs": [
        {
          "name": "stdout",
          "output_type": "stream",
          "text": [
            "shape of electronics dataset (1292954, 4)\n",
            "shape of modcloth dataset (99893, 4)\n"
          ]
        }
      ],
      "source": [
        "# copying the data we collected and printing the no of rows of columns of both dataframes\n",
        "df_elec_rating=df_elec[['item_id','user_id','rating','category']].copy()\n",
        "df_cloth_rating=df_cloth[['item_id','user_id','rating','category']].copy()\n",
        "print(\"shape of electronics dataset\",df_elec_rating.shape)\n",
        "print(\"shape of modcloth dataset\",df_cloth_rating.shape)"
      ]
    },
    {
      "cell_type": "markdown",
      "metadata": {
        "id": "zPR41URhTun7"
      },
      "source": [
        "## Combining the both dataframes"
      ]
    },
    {
      "cell_type": "code",
      "execution_count": null,
      "metadata": {
        "id": "h91hu_iCTun7"
      },
      "outputs": [],
      "source": [
        "# combining the both electronics and modcloth dataframes as single data\n",
        "df_rating=pd.concat([df_elec_rating,df_cloth_rating],ignore_index=True)"
      ]
    },
    {
      "cell_type": "markdown",
      "metadata": {
        "id": "vLGQ-xnjTun7"
      },
      "source": [
        "## Statistics of combined dataframe"
      ]
    },
    {
      "cell_type": "code",
      "execution_count": null,
      "metadata": {
        "id": "KqOItxrsTun7",
        "outputId": "cac7fc6e-2ccb-4e90-eb62-134f0d93a1c3"
      },
      "outputs": [
        {
          "data": {
            "text/plain": [
              "count    1.392847e+06\n",
              "mean     4.062822e+00\n",
              "std      1.361083e+00\n",
              "min      1.000000e+00\n",
              "25%      4.000000e+00\n",
              "50%      5.000000e+00\n",
              "75%      5.000000e+00\n",
              "max      5.000000e+00\n",
              "Name: rating, dtype: float64"
            ]
          },
          "execution_count": 10,
          "metadata": {},
          "output_type": "execute_result"
        }
      ],
      "source": [
        "# summary statistics of rating variable\n",
        "df_rating.describe()['rating']"
      ]
    },
    {
      "cell_type": "code",
      "execution_count": null,
      "metadata": {
        "id": "j2IsKXo6Tun8",
        "outputId": "59c9c103-aa7b-421a-a344-f44344ddfc9f"
      },
      "outputs": [
        {
          "name": "stdout",
          "output_type": "stream",
          "text": [
            "Number of missing values across columns:\n",
            " item_id     0\n",
            "user_id     0\n",
            "rating      0\n",
            "category    0\n",
            "dtype: int64\n"
          ]
        }
      ],
      "source": [
        "# checking for null values in dataframe\n",
        "print('Number of missing values across columns:\\n',df_rating.isnull().sum())"
      ]
    },
    {
      "cell_type": "code",
      "execution_count": null,
      "metadata": {
        "id": "itPPLcjdTun8",
        "outputId": "cb13b15a-b50b-436f-eac7-80073c220e54"
      },
      "outputs": [
        {
          "name": "stdout",
          "output_type": "stream",
          "text": [
            "Number of Duplicate values across rows: 0\n"
          ]
        }
      ],
      "source": [
        "# checking for duplicated rows in dataframe\n",
        "print('Number of Duplicate values across rows:',df_rating.duplicated(['item_id','user_id','rating','category']).sum())"
      ]
    },
    {
      "cell_type": "code",
      "execution_count": null,
      "metadata": {
        "id": "Bfs2HXCGTun8",
        "outputId": "c1434b3a-0585-4e6b-bfd0-e9624aa48f7f"
      },
      "outputs": [
        {
          "name": "stdout",
          "output_type": "stream",
          "text": [
            "Total ratings: 1392847 ratings\n",
            "Total number of unique items are:  10578 items\n",
            "Total number of unique users are:  1202417 users\n",
            "Total number of item categories are:  14 categories\n"
          ]
        }
      ],
      "source": [
        "#printing the total ratings and count of unique users,items,categories\n",
        "print(\"Total ratings:\",df_rating.shape[0],\"ratings\")\n",
        "print(\"Total number of unique items are: \",len(np.unique(df_rating['item_id'])),\"items\")\n",
        "print(\"Total number of unique users are: \",len(np.unique(df_rating['user_id'])),\"users\")\n",
        "print(\"Total number of item categories are: \",len(np.unique(df_rating['category'])),\"categories\")"
      ]
    },
    {
      "cell_type": "markdown",
      "metadata": {
        "id": "k46T-2osTun8"
      },
      "source": [
        "# Visualizations on dataset"
      ]
    },
    {
      "cell_type": "markdown",
      "metadata": {
        "id": "HBi35suyTun8"
      },
      "source": [
        "##  Categories"
      ]
    },
    {
      "cell_type": "code",
      "execution_count": null,
      "metadata": {
        "id": "jKZEBkwSTun8",
        "outputId": "419c40bc-a463-4d4e-a917-de6320d5d67f"
      },
      "outputs": [
        {
          "name": "stdout",
          "output_type": "stream",
          "text": [
            "The total categories in the dataset are: \n",
            "1 Portable Audio & Video ==> 143370 records\n",
            "2 Computers & Accessories ==> 322938 records\n",
            "3 Headphones ==> 359334 records\n",
            "4 Camera & Photo ==> 192573 records\n",
            "5 Television & Video ==> 32057 records\n",
            "6 Home Audio ==> 24193 records\n",
            "7 Accessories & Supplies ==> 158598 records\n",
            "8 Car Electronics & GPS ==> 33070 records\n",
            "9 Security & Surveillance ==> 10806 records\n",
            "10 Wearable Technology ==> 16015 records\n",
            "11 Dresses ==> 34160 records\n",
            "12 Outerwear ==> 7131 records\n",
            "13 Bottoms ==> 23625 records\n",
            "14 Tops ==> 34977 records\n"
          ]
        }
      ],
      "source": [
        "# Create a function to find categories in the dataset\n",
        "\n",
        "categories = {} # create a dictionary to store different category values\n",
        "\n",
        "def find_categories():\n",
        "    for category in df_rating['category']:\n",
        "        if category in categories:\n",
        "            categories[category]=categories[category]+1\n",
        "        else:\n",
        "            categories[category]=1\n",
        "    for i,category in enumerate(categories.keys()):\n",
        "        print(i+1,category,\"==>\",categories[category],\"records\")\n",
        "print(\"The total categories in the dataset are: \")\n",
        "find_categories()"
      ]
    },
    {
      "cell_type": "code",
      "execution_count": null,
      "metadata": {
        "id": "ED9IgjoGTun8",
        "outputId": "05cc6868-474d-49b0-b434-509f2817ee5e"
      },
      "outputs": [
        {
          "data": {
            "text/plain": [
              "{'Accessories & Supplies': 158598,\n",
              " 'Bottoms': 23625,\n",
              " 'Camera & Photo': 192573,\n",
              " 'Car Electronics & GPS': 33070,\n",
              " 'Computers & Accessories': 322938,\n",
              " 'Dresses': 34160,\n",
              " 'Headphones': 359334,\n",
              " 'Home Audio': 24193,\n",
              " 'Outerwear': 7131,\n",
              " 'Portable Audio & Video': 143370,\n",
              " 'Security & Surveillance': 10806,\n",
              " 'Television & Video': 32057,\n",
              " 'Tops': 34977,\n",
              " 'Wearable Technology': 16015}"
            ]
          },
          "execution_count": 15,
          "metadata": {},
          "output_type": "execute_result"
        }
      ],
      "source": [
        "categories"
      ]
    },
    {
      "cell_type": "markdown",
      "metadata": {
        "id": "ncoIoli9Tun9"
      },
      "source": [
        "##  Ratings"
      ]
    },
    {
      "cell_type": "code",
      "execution_count": null,
      "metadata": {
        "id": "xALxHGUCTun9",
        "outputId": "b8efeaaf-895b-4dba-abf3-18c0c2f46dc5"
      },
      "outputs": [
        {
          "data": {
            "image/png": "[encoded data removed]",
            "text/plain": [
              "<matplotlib.figure.Figure at 0x201ec9daeb8>"
            ]
          },
          "metadata": {},
          "output_type": "display_data"
        }
      ],
      "source": [
        "# check the distribution of the rating\n",
        "with sns.axes_style('white'):\n",
        "    g = sns.factorplot(\"rating\", data=df_rating, aspect=2.0,kind='count')\n",
        "    g.set_ylabels(\"Total number of ratings\")"
      ]
    },
    {
      "cell_type": "markdown",
      "metadata": {
        "id": "19qMfQpiTun9"
      },
      "source": [
        "## WordCloud"
      ]
    },
    {
      "cell_type": "code",
      "execution_count": null,
      "metadata": {
        "id": "QGRIks0LTun9",
        "outputId": "8c113d54-58a3-49d6-f382-bdbd404dd710"
      },
      "outputs": [
        {
          "data": {
            "image/png": "[encoded data removed]",
            "text/plain": [
              "<matplotlib.figure.Figure at 0x201ec9da6d8>"
            ]
          },
          "metadata": {
            "needs_background": "light"
          },
          "output_type": "display_data"
        }
      ],
      "source": [
        "from wordcloud import WordCloud\n",
        "\n",
        "wordcloud = WordCloud(width=500, height=300, background_color = 'black', min_font_size=7).generate_from_frequencies(categories)\n",
        "plt.imshow(wordcloud)\n",
        "plt.axis('off')\n",
        "plt.show()"
      ]
    },
    {
      "cell_type": "markdown",
      "metadata": {
        "id": "m6bdw02uTun9"
      },
      "source": [
        "##  Heavily rated items"
      ]
    },
    {
      "cell_type": "code",
      "execution_count": null,
      "metadata": {
        "id": "TB3HCqzbTun9",
        "outputId": "3cc70444-cf02-42e1-8708-3d8ae4c2ab06"
      },
      "outputs": [
        {
          "data": {
            "text/html": [
              "<div>\n",
              "<style scoped>\n",
              "    .dataframe tbody tr th:only-of-type {\n",
              "        vertical-align: middle;\n",
              "    }\n",
              "\n",
              "    .dataframe tbody tr th {\n",
              "        vertical-align: top;\n",
              "    }\n",
              "\n",
              "    .dataframe thead th {\n",
              "        text-align: right;\n",
              "    }\n",
              "</style>\n",
              "<table border=\"1\" class=\"dataframe\">\n",
              "  <thead>\n",
              "    <tr style=\"text-align: right;\">\n",
              "      <th></th>\n",
              "      <th></th>\n",
              "      <th>mean ratings</th>\n",
              "      <th>total ratings</th>\n",
              "    </tr>\n",
              "    <tr>\n",
              "      <th>item_id</th>\n",
              "      <th>category</th>\n",
              "      <th></th>\n",
              "      <th></th>\n",
              "    </tr>\n",
              "  </thead>\n",
              "  <tbody>\n",
              "    <tr>\n",
              "      <th>7780</th>\n",
              "      <th>Portable Audio &amp; Video</th>\n",
              "      <td>4.400911</td>\n",
              "      <td>28530</td>\n",
              "    </tr>\n",
              "    <tr>\n",
              "      <th>2031</th>\n",
              "      <th>Computers &amp; Accessories</th>\n",
              "      <td>4.418184</td>\n",
              "      <td>9393</td>\n",
              "    </tr>\n",
              "    <tr>\n",
              "      <th>1575</th>\n",
              "      <th>Headphones</th>\n",
              "      <td>4.218743</td>\n",
              "      <td>8622</td>\n",
              "    </tr>\n",
              "    <tr>\n",
              "      <th>2279</th>\n",
              "      <th>Computers &amp; Accessories</th>\n",
              "      <td>4.168844</td>\n",
              "      <td>6278</td>\n",
              "    </tr>\n",
              "    <tr>\n",
              "      <th>2486</th>\n",
              "      <th>Computers &amp; Accessories</th>\n",
              "      <td>4.306368</td>\n",
              "      <td>5810</td>\n",
              "    </tr>\n",
              "    <tr>\n",
              "      <th>2340</th>\n",
              "      <th>Headphones</th>\n",
              "      <td>4.625734</td>\n",
              "      <td>5790</td>\n",
              "    </tr>\n",
              "    <tr>\n",
              "      <th>5795</th>\n",
              "      <th>Headphones</th>\n",
              "      <td>3.921318</td>\n",
              "      <td>5554</td>\n",
              "    </tr>\n",
              "    <tr>\n",
              "      <th>1715</th>\n",
              "      <th>Accessories &amp; Supplies</th>\n",
              "      <td>4.797337</td>\n",
              "      <td>5482</td>\n",
              "    </tr>\n",
              "    <tr>\n",
              "      <th>1124</th>\n",
              "      <th>Computers &amp; Accessories</th>\n",
              "      <td>3.998879</td>\n",
              "      <td>5353</td>\n",
              "    </tr>\n",
              "    <tr>\n",
              "      <th>1886</th>\n",
              "      <th>Headphones</th>\n",
              "      <td>4.109149</td>\n",
              "      <td>5323</td>\n",
              "    </tr>\n",
              "  </tbody>\n",
              "</table>\n",
              "</div>"
            ],
            "text/plain": [
              "                                 mean ratings  total ratings\n",
              "item_id category                                            \n",
              "7780    Portable Audio & Video       4.400911          28530\n",
              "2031    Computers & Accessories      4.418184           9393\n",
              "1575    Headphones                   4.218743           8622\n",
              "2279    Computers & Accessories      4.168844           6278\n",
              "2486    Computers & Accessories      4.306368           5810\n",
              "2340    Headphones                   4.625734           5790\n",
              "5795    Headphones                   3.921318           5554\n",
              "1715    Accessories & Supplies       4.797337           5482\n",
              "1124    Computers & Accessories      3.998879           5353\n",
              "1886    Headphones                   4.109149           5323"
            ]
          },
          "execution_count": 18,
          "metadata": {},
          "output_type": "execute_result"
        }
      ],
      "source": [
        "df_avg_ratings = pd.DataFrame(df_rating.groupby(['item_id','category'])['rating'].mean())\n",
        "df_avg_ratings['total ratings'] = pd.DataFrame(df_rating.groupby(['item_id','category'])['rating'].count())\n",
        "df_avg_ratings.rename(columns = {'rating': 'mean ratings'}, inplace=True)\n",
        "df_avg_ratings.sort_values('total ratings', ascending=False).head(10)"
      ]
    },
    {
      "cell_type": "markdown",
      "metadata": {
        "id": "oyboQo9TTun9"
      },
      "source": [
        "##  Highly rated items"
      ]
    },
    {
      "cell_type": "code",
      "execution_count": null,
      "metadata": {
        "id": "4-QyArcLTun9",
        "outputId": "d955c1cb-e45e-449e-eb73-5edf5a3c44a9"
      },
      "outputs": [
        {
          "data": {
            "text/html": [
              "<div>\n",
              "<style scoped>\n",
              "    .dataframe tbody tr th:only-of-type {\n",
              "        vertical-align: middle;\n",
              "    }\n",
              "\n",
              "    .dataframe tbody tr th {\n",
              "        vertical-align: top;\n",
              "    }\n",
              "\n",
              "    .dataframe thead th {\n",
              "        text-align: right;\n",
              "    }\n",
              "</style>\n",
              "<table border=\"1\" class=\"dataframe\">\n",
              "  <thead>\n",
              "    <tr style=\"text-align: right;\">\n",
              "      <th></th>\n",
              "      <th></th>\n",
              "      <th>mean ratings</th>\n",
              "      <th>total ratings</th>\n",
              "    </tr>\n",
              "    <tr>\n",
              "      <th>item_id</th>\n",
              "      <th>category</th>\n",
              "      <th></th>\n",
              "      <th></th>\n",
              "    </tr>\n",
              "  </thead>\n",
              "  <tbody>\n",
              "    <tr>\n",
              "      <th>2513</th>\n",
              "      <th>Camera &amp; Photo</th>\n",
              "      <td>5.0</td>\n",
              "      <td>135</td>\n",
              "    </tr>\n",
              "    <tr>\n",
              "      <th>2789</th>\n",
              "      <th>Camera &amp; Photo</th>\n",
              "      <td>5.0</td>\n",
              "      <td>27</td>\n",
              "    </tr>\n",
              "    <tr>\n",
              "      <th>1513</th>\n",
              "      <th>Camera &amp; Photo</th>\n",
              "      <td>5.0</td>\n",
              "      <td>23</td>\n",
              "    </tr>\n",
              "    <tr>\n",
              "      <th>3121</th>\n",
              "      <th>Accessories &amp; Supplies</th>\n",
              "      <td>5.0</td>\n",
              "      <td>16</td>\n",
              "    </tr>\n",
              "    <tr>\n",
              "      <th>4463</th>\n",
              "      <th>Camera &amp; Photo</th>\n",
              "      <td>5.0</td>\n",
              "      <td>16</td>\n",
              "    </tr>\n",
              "    <tr>\n",
              "      <th>9459</th>\n",
              "      <th>Computers &amp; Accessories</th>\n",
              "      <td>5.0</td>\n",
              "      <td>16</td>\n",
              "    </tr>\n",
              "    <tr>\n",
              "      <th>3216</th>\n",
              "      <th>Computers &amp; Accessories</th>\n",
              "      <td>5.0</td>\n",
              "      <td>15</td>\n",
              "    </tr>\n",
              "    <tr>\n",
              "      <th>8657</th>\n",
              "      <th>Computers &amp; Accessories</th>\n",
              "      <td>5.0</td>\n",
              "      <td>15</td>\n",
              "    </tr>\n",
              "    <tr>\n",
              "      <th>3696</th>\n",
              "      <th>Computers &amp; Accessories</th>\n",
              "      <td>5.0</td>\n",
              "      <td>14</td>\n",
              "    </tr>\n",
              "    <tr>\n",
              "      <th>5314</th>\n",
              "      <th>Headphones</th>\n",
              "      <td>5.0</td>\n",
              "      <td>14</td>\n",
              "    </tr>\n",
              "  </tbody>\n",
              "</table>\n",
              "</div>"
            ],
            "text/plain": [
              "                                 mean ratings  total ratings\n",
              "item_id category                                            \n",
              "2513    Camera & Photo                    5.0            135\n",
              "2789    Camera & Photo                    5.0             27\n",
              "1513    Camera & Photo                    5.0             23\n",
              "3121    Accessories & Supplies            5.0             16\n",
              "4463    Camera & Photo                    5.0             16\n",
              "9459    Computers & Accessories           5.0             16\n",
              "3216    Computers & Accessories           5.0             15\n",
              "8657    Computers & Accessories           5.0             15\n",
              "3696    Computers & Accessories           5.0             14\n",
              "5314    Headphones                        5.0             14"
            ]
          },
          "execution_count": 19,
          "metadata": {},
          "output_type": "execute_result"
        }
      ],
      "source": [
        "df_avg_ratings.sort_values(['mean ratings','total ratings'], ascending=False).head(10)"
      ]
    },
    {
      "cell_type": "code",
      "execution_count": null,
      "metadata": {
        "id": "M5sTAKAITun9",
        "outputId": "8d822693-b453-4f42-d6a4-b03e2086bb1e"
      },
      "outputs": [
        {
          "data": {
            "image/png": "[encoded data removed]",
            "text/plain": [
              "<matplotlib.figure.Figure at 0x20185dc4240>"
            ]
          },
          "metadata": {
            "needs_background": "light"
          },
          "output_type": "display_data"
        }
      ],
      "source": [
        "plt.figure(figsize=(10,5))\n",
        "sns.distplot(df_avg_ratings['mean ratings'], bins=30)\n",
        "plt.xlabel('Mean Ratings')\n",
        "plt.ylabel('Probability')\n",
        "plt.show()"
      ]
    },
    {
      "cell_type": "markdown",
      "metadata": {
        "id": "V_hztODCTun-"
      },
      "source": [
        "##  Mean ratings VS Total no.of Ratings"
      ]
    },
    {
      "cell_type": "code",
      "execution_count": null,
      "metadata": {
        "id": "lKnSSDw0TuoF",
        "outputId": "281b524d-8467-404d-995b-61f3fc17ac2b"
      },
      "outputs": [
        {
          "data": {
            "text/plain": [
              "<seaborn.axisgrid.JointGrid at 0x20185e3f630>"
            ]
          },
          "execution_count": 21,
          "metadata": {},
          "output_type": "execute_result"
        },
        {
          "data": {
            "image/png": "[encoded data removed]",
            "text/plain": [
              "<matplotlib.figure.Figure at 0x20185eab5f8>"
            ]
          },
          "metadata": {
            "needs_background": "light"
          },
          "output_type": "display_data"
        }
      ],
      "source": [
        "sns.jointplot(x = 'mean ratings', y = 'total ratings', data = df_avg_ratings )"
      ]
    },
    {
      "cell_type": "markdown",
      "metadata": {
        "id": "ruC9NJ7UTuoG"
      },
      "source": [
        "#  Taking subset of dataset to make it denser"
      ]
    },
    {
      "cell_type": "code",
      "execution_count": null,
      "metadata": {
        "id": "gwHMshOsTuoG",
        "outputId": "240d7a39-6ee8-4314-a972-c8460b8ed8c1"
      },
      "outputs": [
        {
          "name": "stdout",
          "output_type": "stream",
          "text": [
            "Top 10 users based on ratings: \n",
            " user_id\n",
            "1160256    250\n",
            "1161835    204\n",
            "1159573    198\n",
            "1163125    197\n",
            "1160497    191\n",
            "1158518    188\n",
            "1159908    187\n",
            "1160045    184\n",
            "1160433    184\n",
            "1160342    177\n",
            "dtype: int64\n"
          ]
        }
      ],
      "source": [
        "#Check the top 10 users based on ratings\n",
        "most_rated=df_rating.groupby('user_id').size().sort_values(ascending=False)[:10]\n",
        "print('Top 10 users based on ratings: \\n',most_rated)"
      ]
    },
    {
      "cell_type": "code",
      "execution_count": null,
      "metadata": {
        "id": "qeFQtuDkTuoG",
        "outputId": "9a03c885-17f3-4394-f0f2-2fb6c5dcf5a0"
      },
      "outputs": [
        {
          "name": "stdout",
          "output_type": "stream",
          "text": [
            "Number of users who have rated 50 or more items = 14258\n",
            "Number of unique users in the final data =  153\n",
            "Number of unique products in the final data =  935\n"
          ]
        }
      ],
      "source": [
        "counts=df_rating.user_id.value_counts()\n",
        "df_most_rated_users=df_rating[df_rating.user_id.isin(counts[counts>=50].index)]\n",
        "print('Number of users who have rated 50 or more items =', len(df_most_rated_users))\n",
        "print('Number of unique users in the final data = ', df_most_rated_users['user_id'].nunique())\n",
        "print('Number of unique products in the final data = ', df_most_rated_users['item_id'].nunique())"
      ]
    },
    {
      "cell_type": "markdown",
      "metadata": {
        "id": "4KdymqkNTuoG"
      },
      "source": [
        "df_most_rated_users contains users who have rated morethan 50 items"
      ]
    },
    {
      "cell_type": "markdown",
      "metadata": {
        "id": "kS1cyuV4TuoG"
      },
      "source": [
        "taking subset of dataset to make it more denser"
      ]
    },
    {
      "cell_type": "markdown",
      "metadata": {
        "id": "FN9-j9viTuoG"
      },
      "source": [
        "##  Rating analysis in final dataset"
      ]
    },
    {
      "cell_type": "code",
      "execution_count": null,
      "metadata": {
        "id": "NsfayPfRTuoG",
        "outputId": "e569a391-6a9d-4bdd-ec8a-19732c6da63a"
      },
      "outputs": [
        {
          "data": {
            "text/html": [
              "<div>\n",
              "<style scoped>\n",
              "    .dataframe tbody tr th:only-of-type {\n",
              "        vertical-align: middle;\n",
              "    }\n",
              "\n",
              "    .dataframe tbody tr th {\n",
              "        vertical-align: top;\n",
              "    }\n",
              "\n",
              "    .dataframe thead th {\n",
              "        text-align: right;\n",
              "    }\n",
              "</style>\n",
              "<table border=\"1\" class=\"dataframe\">\n",
              "  <thead>\n",
              "    <tr style=\"text-align: right;\">\n",
              "      <th>item_id</th>\n",
              "      <th>6454</th>\n",
              "      <th>7443</th>\n",
              "      <th>11960</th>\n",
              "      <th>16411</th>\n",
              "      <th>21296</th>\n",
              "      <th>22563</th>\n",
              "      <th>24853</th>\n",
              "      <th>27439</th>\n",
              "      <th>27590</th>\n",
              "      <th>28252</th>\n",
              "      <th>...</th>\n",
              "      <th>154943</th>\n",
              "      <th>154947</th>\n",
              "      <th>155165</th>\n",
              "      <th>155293</th>\n",
              "      <th>155305</th>\n",
              "      <th>155307</th>\n",
              "      <th>155308</th>\n",
              "      <th>155317</th>\n",
              "      <th>155537</th>\n",
              "      <th>155950</th>\n",
              "    </tr>\n",
              "    <tr>\n",
              "      <th>user_id</th>\n",
              "      <th></th>\n",
              "      <th></th>\n",
              "      <th></th>\n",
              "      <th></th>\n",
              "      <th></th>\n",
              "      <th></th>\n",
              "      <th></th>\n",
              "      <th></th>\n",
              "      <th></th>\n",
              "      <th></th>\n",
              "      <th></th>\n",
              "      <th></th>\n",
              "      <th></th>\n",
              "      <th></th>\n",
              "      <th></th>\n",
              "      <th></th>\n",
              "      <th></th>\n",
              "      <th></th>\n",
              "      <th></th>\n",
              "      <th></th>\n",
              "      <th></th>\n",
              "    </tr>\n",
              "  </thead>\n",
              "  <tbody>\n",
              "    <tr>\n",
              "      <th>1157633</th>\n",
              "      <td>0.0</td>\n",
              "      <td>4.0</td>\n",
              "      <td>0.0</td>\n",
              "      <td>0.0</td>\n",
              "      <td>5.0</td>\n",
              "      <td>0.0</td>\n",
              "      <td>0.0</td>\n",
              "      <td>0.0</td>\n",
              "      <td>0.0</td>\n",
              "      <td>0.0</td>\n",
              "      <td>...</td>\n",
              "      <td>0.0</td>\n",
              "      <td>0.0</td>\n",
              "      <td>0.0</td>\n",
              "      <td>0.0</td>\n",
              "      <td>0.0</td>\n",
              "      <td>0.0</td>\n",
              "      <td>0.0</td>\n",
              "      <td>0.0</td>\n",
              "      <td>0.0</td>\n",
              "      <td>0.0</td>\n",
              "    </tr>\n",
              "    <tr>\n",
              "      <th>1157639</th>\n",
              "      <td>0.0</td>\n",
              "      <td>2.0</td>\n",
              "      <td>0.0</td>\n",
              "      <td>5.0</td>\n",
              "      <td>5.0</td>\n",
              "      <td>0.0</td>\n",
              "      <td>1.0</td>\n",
              "      <td>5.0</td>\n",
              "      <td>0.0</td>\n",
              "      <td>0.0</td>\n",
              "      <td>...</td>\n",
              "      <td>0.0</td>\n",
              "      <td>0.0</td>\n",
              "      <td>0.0</td>\n",
              "      <td>0.0</td>\n",
              "      <td>0.0</td>\n",
              "      <td>0.0</td>\n",
              "      <td>0.0</td>\n",
              "      <td>0.0</td>\n",
              "      <td>0.0</td>\n",
              "      <td>0.0</td>\n",
              "    </tr>\n",
              "    <tr>\n",
              "      <th>1157666</th>\n",
              "      <td>0.0</td>\n",
              "      <td>4.0</td>\n",
              "      <td>5.0</td>\n",
              "      <td>3.0</td>\n",
              "      <td>5.0</td>\n",
              "      <td>0.0</td>\n",
              "      <td>2.0</td>\n",
              "      <td>3.0</td>\n",
              "      <td>2.0</td>\n",
              "      <td>5.0</td>\n",
              "      <td>...</td>\n",
              "      <td>0.0</td>\n",
              "      <td>0.0</td>\n",
              "      <td>0.0</td>\n",
              "      <td>0.0</td>\n",
              "      <td>0.0</td>\n",
              "      <td>0.0</td>\n",
              "      <td>0.0</td>\n",
              "      <td>0.0</td>\n",
              "      <td>0.0</td>\n",
              "      <td>0.0</td>\n",
              "    </tr>\n",
              "    <tr>\n",
              "      <th>1157668</th>\n",
              "      <td>0.0</td>\n",
              "      <td>5.0</td>\n",
              "      <td>3.0</td>\n",
              "      <td>5.0</td>\n",
              "      <td>5.0</td>\n",
              "      <td>5.0</td>\n",
              "      <td>5.0</td>\n",
              "      <td>5.0</td>\n",
              "      <td>0.0</td>\n",
              "      <td>0.0</td>\n",
              "      <td>...</td>\n",
              "      <td>0.0</td>\n",
              "      <td>0.0</td>\n",
              "      <td>0.0</td>\n",
              "      <td>0.0</td>\n",
              "      <td>0.0</td>\n",
              "      <td>0.0</td>\n",
              "      <td>0.0</td>\n",
              "      <td>0.0</td>\n",
              "      <td>0.0</td>\n",
              "      <td>0.0</td>\n",
              "    </tr>\n",
              "    <tr>\n",
              "      <th>1157669</th>\n",
              "      <td>0.0</td>\n",
              "      <td>4.0</td>\n",
              "      <td>5.0</td>\n",
              "      <td>0.0</td>\n",
              "      <td>5.0</td>\n",
              "      <td>0.0</td>\n",
              "      <td>4.0</td>\n",
              "      <td>0.0</td>\n",
              "      <td>4.0</td>\n",
              "      <td>0.0</td>\n",
              "      <td>...</td>\n",
              "      <td>0.0</td>\n",
              "      <td>0.0</td>\n",
              "      <td>0.0</td>\n",
              "      <td>0.0</td>\n",
              "      <td>0.0</td>\n",
              "      <td>0.0</td>\n",
              "      <td>0.0</td>\n",
              "      <td>0.0</td>\n",
              "      <td>0.0</td>\n",
              "      <td>0.0</td>\n",
              "    </tr>\n",
              "  </tbody>\n",
              "</table>\n",
              "<p>5 rows × 935 columns</p>\n",
              "</div>"
            ],
            "text/plain": [
              "item_id  6454    7443    11960   16411   21296   22563   24853   27439   \\\n",
              "user_id                                                                   \n",
              "1157633     0.0     4.0     0.0     0.0     5.0     0.0     0.0     0.0   \n",
              "1157639     0.0     2.0     0.0     5.0     5.0     0.0     1.0     5.0   \n",
              "1157666     0.0     4.0     5.0     3.0     5.0     0.0     2.0     3.0   \n",
              "1157668     0.0     5.0     3.0     5.0     5.0     5.0     5.0     5.0   \n",
              "1157669     0.0     4.0     5.0     0.0     5.0     0.0     4.0     0.0   \n",
              "\n",
              "item_id  27590   28252    ...    154943  154947  155165  155293  155305  \\\n",
              "user_id                   ...                                             \n",
              "1157633     0.0     0.0   ...       0.0     0.0     0.0     0.0     0.0   \n",
              "1157639     0.0     0.0   ...       0.0     0.0     0.0     0.0     0.0   \n",
              "1157666     2.0     5.0   ...       0.0     0.0     0.0     0.0     0.0   \n",
              "1157668     0.0     0.0   ...       0.0     0.0     0.0     0.0     0.0   \n",
              "1157669     4.0     0.0   ...       0.0     0.0     0.0     0.0     0.0   \n",
              "\n",
              "item_id  155307  155308  155317  155537  155950  \n",
              "user_id                                          \n",
              "1157633     0.0     0.0     0.0     0.0     0.0  \n",
              "1157639     0.0     0.0     0.0     0.0     0.0  \n",
              "1157666     0.0     0.0     0.0     0.0     0.0  \n",
              "1157668     0.0     0.0     0.0     0.0     0.0  \n",
              "1157669     0.0     0.0     0.0     0.0     0.0  \n",
              "\n",
              "[5 rows x 935 columns]"
            ]
          },
          "execution_count": 24,
          "metadata": {},
          "output_type": "execute_result"
        }
      ],
      "source": [
        "# constructing pivot table\n",
        "ratings_matrix = df_most_rated_users.pivot_table(index = 'user_id', columns = 'item_id', values = 'rating').fillna(0)\n",
        "ratings_matrix.head()"
      ]
    },
    {
      "cell_type": "markdown",
      "metadata": {
        "id": "2Dofh0RATuoG"
      },
      "source": [
        "this shows that above matrix is a sparse matrix, so many cells are filled with zeroes"
      ]
    },
    {
      "cell_type": "code",
      "execution_count": null,
      "metadata": {
        "id": "_hCiGKC8TuoH",
        "outputId": "1c1425a5-794f-4ab8-fe4e-51bcd0792c5d"
      },
      "outputs": [
        {
          "name": "stdout",
          "output_type": "stream",
          "text": [
            "Shape of ratings_matrix:  (153, 935)\n"
          ]
        }
      ],
      "source": [
        "print('Shape of ratings_matrix: ', ratings_matrix.shape)"
      ]
    },
    {
      "cell_type": "code",
      "execution_count": null,
      "metadata": {
        "id": "9PmMZ5AGTuoH",
        "outputId": "afea5e3f-b36d-47e4-db03-2437561f2d0b"
      },
      "outputs": [
        {
          "name": "stdout",
          "output_type": "stream",
          "text": [
            "given num of ratings =  14258\n",
            "possible num of ratings =  143055\n",
            "density: 9.97%\n"
          ]
        }
      ],
      "source": [
        "#calculate the density of rating matrix\n",
        "givenratings = np.count_nonzero(ratings_matrix)\n",
        "print('given num of ratings = ', givenratings)\n",
        "possibleratings = ratings_matrix.shape[0] * ratings_matrix.shape[1]\n",
        "print('possible num of ratings = ', possibleratings)\n",
        "density = (givenratings/possibleratings)\n",
        "density *= 100\n",
        "print ('density: {:4.2f}%'.format(density))"
      ]
    },
    {
      "cell_type": "markdown",
      "metadata": {
        "id": "k518OQVTTuoH"
      },
      "source": [
        "* the density of the matrix also shows that it is a sparse matrix"
      ]
    },
    {
      "cell_type": "markdown",
      "metadata": {
        "id": "qim2P5oLTuoH"
      },
      "source": [
        "# Splitting the data"
      ]
    },
    {
      "cell_type": "code",
      "execution_count": null,
      "metadata": {
        "id": "zMpgPsVGTuoH",
        "outputId": "24d0e21d-19b9-4dce-ceba-495e4f6f524d"
      },
      "outputs": [
        {
          "data": {
            "text/html": [
              "<div>\n",
              "<style scoped>\n",
              "    .dataframe tbody tr th:only-of-type {\n",
              "        vertical-align: middle;\n",
              "    }\n",
              "\n",
              "    .dataframe tbody tr th {\n",
              "        vertical-align: top;\n",
              "    }\n",
              "\n",
              "    .dataframe thead th {\n",
              "        text-align: right;\n",
              "    }\n",
              "</style>\n",
              "<table border=\"1\" class=\"dataframe\">\n",
              "  <thead>\n",
              "    <tr style=\"text-align: right;\">\n",
              "      <th></th>\n",
              "      <th>item_id</th>\n",
              "      <th>user_id</th>\n",
              "      <th>rating</th>\n",
              "      <th>category</th>\n",
              "    </tr>\n",
              "  </thead>\n",
              "  <tbody>\n",
              "    <tr>\n",
              "      <th>1360510</th>\n",
              "      <td>67022</td>\n",
              "      <td>1163125</td>\n",
              "      <td>5.0</td>\n",
              "      <td>Tops</td>\n",
              "    </tr>\n",
              "    <tr>\n",
              "      <th>1384475</th>\n",
              "      <td>56289</td>\n",
              "      <td>1196593</td>\n",
              "      <td>4.0</td>\n",
              "      <td>Outerwear</td>\n",
              "    </tr>\n",
              "    <tr>\n",
              "      <th>1352593</th>\n",
              "      <td>54887</td>\n",
              "      <td>1159370</td>\n",
              "      <td>5.0</td>\n",
              "      <td>Tops</td>\n",
              "    </tr>\n",
              "    <tr>\n",
              "      <th>1373268</th>\n",
              "      <td>153851</td>\n",
              "      <td>1158085</td>\n",
              "      <td>1.0</td>\n",
              "      <td>Dresses</td>\n",
              "    </tr>\n",
              "    <tr>\n",
              "      <th>1300911</th>\n",
              "      <td>36172</td>\n",
              "      <td>1158417</td>\n",
              "      <td>4.0</td>\n",
              "      <td>Tops</td>\n",
              "    </tr>\n",
              "  </tbody>\n",
              "</table>\n",
              "</div>"
            ],
            "text/plain": [
              "         item_id  user_id  rating   category\n",
              "1360510    67022  1163125     5.0       Tops\n",
              "1384475    56289  1196593     4.0  Outerwear\n",
              "1352593    54887  1159370     5.0       Tops\n",
              "1373268   153851  1158085     1.0    Dresses\n",
              "1300911    36172  1158417     4.0       Tops"
            ]
          },
          "execution_count": 27,
          "metadata": {},
          "output_type": "execute_result"
        }
      ],
      "source": [
        "# Split the data randomnly into train and test datasets into 70:30 ratio\n",
        "train_data, test_data = train_test_split(df_most_rated_users, test_size = 0.3, random_state=0)\n",
        "train_data.head()"
      ]
    },
    {
      "cell_type": "code",
      "execution_count": null,
      "metadata": {
        "id": "F2HvWwiDTuoH",
        "outputId": "cceda281-6dc7-4716-f723-57aee5d20b7c"
      },
      "outputs": [
        {
          "name": "stdout",
          "output_type": "stream",
          "text": [
            "Shape of training data:  (9980, 4)\n",
            "Shape of testing data:  (4278, 4)\n"
          ]
        }
      ],
      "source": [
        "print('Shape of training data: ',train_data.shape)\n",
        "print('Shape of testing data: ',test_data.shape)"
      ]
    },
    {
      "cell_type": "markdown",
      "metadata": {
        "id": "fdRy_WwyTuoH"
      },
      "source": [
        "# Building Popularity Recommender Model"
      ]
    },
    {
      "cell_type": "code",
      "execution_count": null,
      "metadata": {
        "id": "1dfJF5DhTuoH",
        "outputId": "92836e76-f3c4-4901-ca9e-b995bfb0e9f2"
      },
      "outputs": [
        {
          "data": {
            "text/html": [
              "<div>\n",
              "<style scoped>\n",
              "    .dataframe tbody tr th:only-of-type {\n",
              "        vertical-align: middle;\n",
              "    }\n",
              "\n",
              "    .dataframe tbody tr th {\n",
              "        vertical-align: top;\n",
              "    }\n",
              "\n",
              "    .dataframe thead th {\n",
              "        text-align: right;\n",
              "    }\n",
              "</style>\n",
              "<table border=\"1\" class=\"dataframe\">\n",
              "  <thead>\n",
              "    <tr style=\"text-align: right;\">\n",
              "      <th></th>\n",
              "      <th>item_id</th>\n",
              "      <th>score</th>\n",
              "    </tr>\n",
              "  </thead>\n",
              "  <tbody>\n",
              "    <tr>\n",
              "      <th>0</th>\n",
              "      <td>6454</td>\n",
              "      <td>11</td>\n",
              "    </tr>\n",
              "    <tr>\n",
              "      <th>1</th>\n",
              "      <td>7443</td>\n",
              "      <td>78</td>\n",
              "    </tr>\n",
              "    <tr>\n",
              "      <th>2</th>\n",
              "      <td>11960</td>\n",
              "      <td>77</td>\n",
              "    </tr>\n",
              "    <tr>\n",
              "      <th>3</th>\n",
              "      <td>16411</td>\n",
              "      <td>75</td>\n",
              "    </tr>\n",
              "    <tr>\n",
              "      <th>4</th>\n",
              "      <td>21296</td>\n",
              "      <td>84</td>\n",
              "    </tr>\n",
              "    <tr>\n",
              "      <th>5</th>\n",
              "      <td>22563</td>\n",
              "      <td>68</td>\n",
              "    </tr>\n",
              "    <tr>\n",
              "      <th>6</th>\n",
              "      <td>24853</td>\n",
              "      <td>63</td>\n",
              "    </tr>\n",
              "    <tr>\n",
              "      <th>7</th>\n",
              "      <td>27439</td>\n",
              "      <td>63</td>\n",
              "    </tr>\n",
              "    <tr>\n",
              "      <th>8</th>\n",
              "      <td>27590</td>\n",
              "      <td>42</td>\n",
              "    </tr>\n",
              "    <tr>\n",
              "      <th>9</th>\n",
              "      <td>28252</td>\n",
              "      <td>61</td>\n",
              "    </tr>\n",
              "  </tbody>\n",
              "</table>\n",
              "</div>"
            ],
            "text/plain": [
              "   item_id  score\n",
              "0     6454     11\n",
              "1     7443     78\n",
              "2    11960     77\n",
              "3    16411     75\n",
              "4    21296     84\n",
              "5    22563     68\n",
              "6    24853     63\n",
              "7    27439     63\n",
              "8    27590     42\n",
              "9    28252     61"
            ]
          },
          "execution_count": 29,
          "metadata": {},
          "output_type": "execute_result"
        }
      ],
      "source": [
        "#recommondation score\n",
        "train_data_grouped = train_data.groupby('item_id').agg({'user_id': 'count'}).reset_index()\n",
        "train_data_grouped.rename(columns = {'user_id': 'score'},inplace=True)\n",
        "train_data_grouped.head(10)"
      ]
    },
    {
      "cell_type": "code",
      "execution_count": null,
      "metadata": {
        "id": "olarr91dTuoI",
        "outputId": "5793780b-769e-4c7a-c4a8-f688f76fc87f"
      },
      "outputs": [
        {
          "data": {
            "text/html": [
              "<div>\n",
              "<style scoped>\n",
              "    .dataframe tbody tr th:only-of-type {\n",
              "        vertical-align: middle;\n",
              "    }\n",
              "\n",
              "    .dataframe tbody tr th {\n",
              "        vertical-align: top;\n",
              "    }\n",
              "\n",
              "    .dataframe thead th {\n",
              "        text-align: right;\n",
              "    }\n",
              "</style>\n",
              "<table border=\"1\" class=\"dataframe\">\n",
              "  <thead>\n",
              "    <tr style=\"text-align: right;\">\n",
              "      <th></th>\n",
              "      <th>item_id</th>\n",
              "      <th>score</th>\n",
              "      <th>rank</th>\n",
              "    </tr>\n",
              "  </thead>\n",
              "  <tbody>\n",
              "    <tr>\n",
              "      <th>19</th>\n",
              "      <td>34935</td>\n",
              "      <td>98</td>\n",
              "      <td>1.0</td>\n",
              "    </tr>\n",
              "    <tr>\n",
              "      <th>15</th>\n",
              "      <td>32403</td>\n",
              "      <td>87</td>\n",
              "      <td>2.0</td>\n",
              "    </tr>\n",
              "    <tr>\n",
              "      <th>4</th>\n",
              "      <td>21296</td>\n",
              "      <td>84</td>\n",
              "      <td>3.0</td>\n",
              "    </tr>\n",
              "    <tr>\n",
              "      <th>17</th>\n",
              "      <td>32406</td>\n",
              "      <td>83</td>\n",
              "      <td>4.0</td>\n",
              "    </tr>\n",
              "    <tr>\n",
              "      <th>16</th>\n",
              "      <td>32405</td>\n",
              "      <td>80</td>\n",
              "      <td>5.0</td>\n",
              "    </tr>\n",
              "  </tbody>\n",
              "</table>\n",
              "</div>"
            ],
            "text/plain": [
              "    item_id  score  rank\n",
              "19    34935     98   1.0\n",
              "15    32403     87   2.0\n",
              "4     21296     84   3.0\n",
              "17    32406     83   4.0\n",
              "16    32405     80   5.0"
            ]
          },
          "execution_count": 30,
          "metadata": {},
          "output_type": "execute_result"
        }
      ],
      "source": [
        "# sorting products based on recommondation score\n",
        "train_data_sort = train_data_grouped.sort_values(['score', 'item_id'], ascending = [0,1])\n",
        "# generating rank based on recommondation score\n",
        "train_data_sort['rank'] = train_data_sort['score'].rank(ascending=0, method='first')\n",
        "\n",
        "#printing top 5 recommondations\n",
        "popular_recommendations = train_data_sort.head(5)\n",
        "popular_recommendations"
      ]
    },
    {
      "cell_type": "code",
      "execution_count": null,
      "metadata": {
        "id": "ywVm_RRaTuoI"
      },
      "outputs": [],
      "source": [
        "#using popularity based recommender model to make predictions\n",
        "def recommend(user_id):\n",
        "    user_recommendations = popular_recommendations\n",
        "\n",
        "    #Add user_id column for which the recommendations are being generated\n",
        "    user_recommendations['user_id'] = user_id\n",
        "\n",
        "    #Bring user_id column to the front\n",
        "    cols = user_recommendations.columns.tolist()\n",
        "    cols = cols[-1:] + cols[:-1]\n",
        "    user_recommendations = user_recommendations[cols]\n",
        "\n",
        "    return user_recommendations"
      ]
    },
    {
      "cell_type": "code",
      "execution_count": null,
      "metadata": {
        "id": "ZwdJIWk-TuoI",
        "outputId": "4908cb06-f81f-46ad-a7a0-5772d99fca39"
      },
      "outputs": [
        {
          "name": "stdout",
          "output_type": "stream",
          "text": [
            "The list of recommendations for the user_id: 906828\n",
            "\n",
            "    user_id  item_id  score  rank\n",
            "19   906828    34935     98   1.0\n",
            "15   906828    32403     87   2.0\n",
            "4    906828    21296     84   3.0\n",
            "17   906828    32406     83   4.0\n",
            "16   906828    32405     80   5.0\n",
            "\n",
            "\n",
            "The list of recommendations for the user_id: 73831\n",
            "\n",
            "    user_id  item_id  score  rank\n",
            "19    73831    34935     98   1.0\n",
            "15    73831    32403     87   2.0\n",
            "4     73831    21296     84   3.0\n",
            "17    73831    32406     83   4.0\n",
            "16    73831    32405     80   5.0\n",
            "\n",
            "\n",
            "The list of recommendations for the user_id: 1079926\n",
            "\n",
            "    user_id  item_id  score  rank\n",
            "19  1079926    34935     98   1.0\n",
            "15  1079926    32403     87   2.0\n",
            "4   1079926    21296     84   3.0\n",
            "17  1079926    32406     83   4.0\n",
            "16  1079926    32405     80   5.0\n",
            "\n",
            "\n"
          ]
        }
      ],
      "source": [
        "# choosing random user for testing\n",
        "find_recom = [random.randint(250,1157669) for i in range(3)]  #This list is user choice.\n",
        "\n",
        "for i in find_recom:\n",
        "    print(\"The list of recommendations for the user_id: %d\\n\" %(i))\n",
        "    print(recommend(i))\n",
        "    print(\"\\n\")"
      ]
    },
    {
      "cell_type": "markdown",
      "metadata": {
        "id": "R3aUZPzTTuoI"
      },
      "source": [
        "*Since, it is a Popularity recommender model, so, all the three users are given the same recommendations. Here, we predict the products based on the popularity. It is not personalized to particular user. It is a non-personalized recommender system."
      ]
    },
    {
      "cell_type": "markdown",
      "metadata": {
        "id": "fV7k6XrYTuoI"
      },
      "source": [
        "#  Building Collaborative Filtering Recommender Model"
      ]
    },
    {
      "cell_type": "code",
      "execution_count": null,
      "metadata": {
        "id": "GtBLgqdPTuoI",
        "outputId": "56060117-498e-4a1f-a2d3-7378c76b739c"
      },
      "outputs": [
        {
          "data": {
            "text/html": [
              "<div>\n",
              "<style scoped>\n",
              "    .dataframe tbody tr th:only-of-type {\n",
              "        vertical-align: middle;\n",
              "    }\n",
              "\n",
              "    .dataframe tbody tr th {\n",
              "        vertical-align: top;\n",
              "    }\n",
              "\n",
              "    .dataframe thead th {\n",
              "        text-align: right;\n",
              "    }\n",
              "</style>\n",
              "<table border=\"1\" class=\"dataframe\">\n",
              "  <thead>\n",
              "    <tr style=\"text-align: right;\">\n",
              "      <th></th>\n",
              "      <th>index</th>\n",
              "      <th>item_id</th>\n",
              "      <th>user_id</th>\n",
              "      <th>rating</th>\n",
              "      <th>category</th>\n",
              "    </tr>\n",
              "  </thead>\n",
              "  <tbody>\n",
              "    <tr>\n",
              "      <th>0</th>\n",
              "      <td>1360510</td>\n",
              "      <td>67022</td>\n",
              "      <td>1163125</td>\n",
              "      <td>5.0</td>\n",
              "      <td>Tops</td>\n",
              "    </tr>\n",
              "    <tr>\n",
              "      <th>1</th>\n",
              "      <td>1384475</td>\n",
              "      <td>56289</td>\n",
              "      <td>1196593</td>\n",
              "      <td>4.0</td>\n",
              "      <td>Outerwear</td>\n",
              "    </tr>\n",
              "    <tr>\n",
              "      <th>2</th>\n",
              "      <td>1352593</td>\n",
              "      <td>54887</td>\n",
              "      <td>1159370</td>\n",
              "      <td>5.0</td>\n",
              "      <td>Tops</td>\n",
              "    </tr>\n",
              "    <tr>\n",
              "      <th>3</th>\n",
              "      <td>1373268</td>\n",
              "      <td>153851</td>\n",
              "      <td>1158085</td>\n",
              "      <td>1.0</td>\n",
              "      <td>Dresses</td>\n",
              "    </tr>\n",
              "    <tr>\n",
              "      <th>4</th>\n",
              "      <td>1300911</td>\n",
              "      <td>36172</td>\n",
              "      <td>1158417</td>\n",
              "      <td>4.0</td>\n",
              "      <td>Tops</td>\n",
              "    </tr>\n",
              "  </tbody>\n",
              "</table>\n",
              "</div>"
            ],
            "text/plain": [
              "     index  item_id  user_id  rating   category\n",
              "0  1360510    67022  1163125     5.0       Tops\n",
              "1  1384475    56289  1196593     4.0  Outerwear\n",
              "2  1352593    54887  1159370     5.0       Tops\n",
              "3  1373268   153851  1158085     1.0    Dresses\n",
              "4  1300911    36172  1158417     4.0       Tops"
            ]
          },
          "execution_count": 33,
          "metadata": {},
          "output_type": "execute_result"
        }
      ],
      "source": [
        "colab_user = pd.concat([train_data, test_data]).reset_index()\n",
        "colab_user.head()"
      ]
    },
    {
      "cell_type": "code",
      "execution_count": null,
      "metadata": {
        "id": "6xoQhp-JTuoI",
        "outputId": "28999fc6-fbc4-4b29-a070-8c43823ce0b4"
      },
      "outputs": [
        {
          "data": {
            "text/html": [
              "<div>\n",
              "<style scoped>\n",
              "    .dataframe tbody tr th:only-of-type {\n",
              "        vertical-align: middle;\n",
              "    }\n",
              "\n",
              "    .dataframe tbody tr th {\n",
              "        vertical-align: top;\n",
              "    }\n",
              "\n",
              "    .dataframe thead th {\n",
              "        text-align: right;\n",
              "    }\n",
              "</style>\n",
              "<table border=\"1\" class=\"dataframe\">\n",
              "  <thead>\n",
              "    <tr style=\"text-align: right;\">\n",
              "      <th>item_id</th>\n",
              "      <th>6454</th>\n",
              "      <th>7443</th>\n",
              "      <th>11960</th>\n",
              "      <th>16411</th>\n",
              "      <th>21296</th>\n",
              "      <th>22563</th>\n",
              "      <th>24853</th>\n",
              "      <th>27439</th>\n",
              "      <th>27590</th>\n",
              "      <th>28252</th>\n",
              "      <th>...</th>\n",
              "      <th>154943</th>\n",
              "      <th>154947</th>\n",
              "      <th>155165</th>\n",
              "      <th>155293</th>\n",
              "      <th>155305</th>\n",
              "      <th>155307</th>\n",
              "      <th>155308</th>\n",
              "      <th>155317</th>\n",
              "      <th>155537</th>\n",
              "      <th>155950</th>\n",
              "    </tr>\n",
              "    <tr>\n",
              "      <th>user_id</th>\n",
              "      <th></th>\n",
              "      <th></th>\n",
              "      <th></th>\n",
              "      <th></th>\n",
              "      <th></th>\n",
              "      <th></th>\n",
              "      <th></th>\n",
              "      <th></th>\n",
              "      <th></th>\n",
              "      <th></th>\n",
              "      <th></th>\n",
              "      <th></th>\n",
              "      <th></th>\n",
              "      <th></th>\n",
              "      <th></th>\n",
              "      <th></th>\n",
              "      <th></th>\n",
              "      <th></th>\n",
              "      <th></th>\n",
              "      <th></th>\n",
              "      <th></th>\n",
              "    </tr>\n",
              "  </thead>\n",
              "  <tbody>\n",
              "    <tr>\n",
              "      <th>1157633</th>\n",
              "      <td>0.0</td>\n",
              "      <td>4.0</td>\n",
              "      <td>0.0</td>\n",
              "      <td>0.0</td>\n",
              "      <td>5.0</td>\n",
              "      <td>0.0</td>\n",
              "      <td>0.0</td>\n",
              "      <td>0.0</td>\n",
              "      <td>0.0</td>\n",
              "      <td>0.0</td>\n",
              "      <td>...</td>\n",
              "      <td>0.0</td>\n",
              "      <td>0.0</td>\n",
              "      <td>0.0</td>\n",
              "      <td>0.0</td>\n",
              "      <td>0.0</td>\n",
              "      <td>0.0</td>\n",
              "      <td>0.0</td>\n",
              "      <td>0.0</td>\n",
              "      <td>0.0</td>\n",
              "      <td>0.0</td>\n",
              "    </tr>\n",
              "    <tr>\n",
              "      <th>1157639</th>\n",
              "      <td>0.0</td>\n",
              "      <td>2.0</td>\n",
              "      <td>0.0</td>\n",
              "      <td>5.0</td>\n",
              "      <td>5.0</td>\n",
              "      <td>0.0</td>\n",
              "      <td>1.0</td>\n",
              "      <td>5.0</td>\n",
              "      <td>0.0</td>\n",
              "      <td>0.0</td>\n",
              "      <td>...</td>\n",
              "      <td>0.0</td>\n",
              "      <td>0.0</td>\n",
              "      <td>0.0</td>\n",
              "      <td>0.0</td>\n",
              "      <td>0.0</td>\n",
              "      <td>0.0</td>\n",
              "      <td>0.0</td>\n",
              "      <td>0.0</td>\n",
              "      <td>0.0</td>\n",
              "      <td>0.0</td>\n",
              "    </tr>\n",
              "    <tr>\n",
              "      <th>1157666</th>\n",
              "      <td>0.0</td>\n",
              "      <td>4.0</td>\n",
              "      <td>5.0</td>\n",
              "      <td>3.0</td>\n",
              "      <td>5.0</td>\n",
              "      <td>0.0</td>\n",
              "      <td>2.0</td>\n",
              "      <td>3.0</td>\n",
              "      <td>2.0</td>\n",
              "      <td>5.0</td>\n",
              "      <td>...</td>\n",
              "      <td>0.0</td>\n",
              "      <td>0.0</td>\n",
              "      <td>0.0</td>\n",
              "      <td>0.0</td>\n",
              "      <td>0.0</td>\n",
              "      <td>0.0</td>\n",
              "      <td>0.0</td>\n",
              "      <td>0.0</td>\n",
              "      <td>0.0</td>\n",
              "      <td>0.0</td>\n",
              "    </tr>\n",
              "    <tr>\n",
              "      <th>1157668</th>\n",
              "      <td>0.0</td>\n",
              "      <td>5.0</td>\n",
              "      <td>3.0</td>\n",
              "      <td>5.0</td>\n",
              "      <td>5.0</td>\n",
              "      <td>5.0</td>\n",
              "      <td>5.0</td>\n",
              "      <td>5.0</td>\n",
              "      <td>0.0</td>\n",
              "      <td>0.0</td>\n",
              "      <td>...</td>\n",
              "      <td>0.0</td>\n",
              "      <td>0.0</td>\n",
              "      <td>0.0</td>\n",
              "      <td>0.0</td>\n",
              "      <td>0.0</td>\n",
              "      <td>0.0</td>\n",
              "      <td>0.0</td>\n",
              "      <td>0.0</td>\n",
              "      <td>0.0</td>\n",
              "      <td>0.0</td>\n",
              "    </tr>\n",
              "    <tr>\n",
              "      <th>1157669</th>\n",
              "      <td>0.0</td>\n",
              "      <td>4.0</td>\n",
              "      <td>5.0</td>\n",
              "      <td>0.0</td>\n",
              "      <td>5.0</td>\n",
              "      <td>0.0</td>\n",
              "      <td>4.0</td>\n",
              "      <td>0.0</td>\n",
              "      <td>4.0</td>\n",
              "      <td>0.0</td>\n",
              "      <td>...</td>\n",
              "      <td>0.0</td>\n",
              "      <td>0.0</td>\n",
              "      <td>0.0</td>\n",
              "      <td>0.0</td>\n",
              "      <td>0.0</td>\n",
              "      <td>0.0</td>\n",
              "      <td>0.0</td>\n",
              "      <td>0.0</td>\n",
              "      <td>0.0</td>\n",
              "      <td>0.0</td>\n",
              "    </tr>\n",
              "  </tbody>\n",
              "</table>\n",
              "<p>5 rows × 935 columns</p>\n",
              "</div>"
            ],
            "text/plain": [
              "item_id  6454    7443    11960   16411   21296   22563   24853   27439   \\\n",
              "user_id                                                                   \n",
              "1157633     0.0     4.0     0.0     0.0     5.0     0.0     0.0     0.0   \n",
              "1157639     0.0     2.0     0.0     5.0     5.0     0.0     1.0     5.0   \n",
              "1157666     0.0     4.0     5.0     3.0     5.0     0.0     2.0     3.0   \n",
              "1157668     0.0     5.0     3.0     5.0     5.0     5.0     5.0     5.0   \n",
              "1157669     0.0     4.0     5.0     0.0     5.0     0.0     4.0     0.0   \n",
              "\n",
              "item_id  27590   28252    ...    154943  154947  155165  155293  155305  \\\n",
              "user_id                   ...                                             \n",
              "1157633     0.0     0.0   ...       0.0     0.0     0.0     0.0     0.0   \n",
              "1157639     0.0     0.0   ...       0.0     0.0     0.0     0.0     0.0   \n",
              "1157666     2.0     5.0   ...       0.0     0.0     0.0     0.0     0.0   \n",
              "1157668     0.0     0.0   ...       0.0     0.0     0.0     0.0     0.0   \n",
              "1157669     4.0     0.0   ...       0.0     0.0     0.0     0.0     0.0   \n",
              "\n",
              "item_id  155307  155308  155317  155537  155950  \n",
              "user_id                                          \n",
              "1157633     0.0     0.0     0.0     0.0     0.0  \n",
              "1157639     0.0     0.0     0.0     0.0     0.0  \n",
              "1157666     0.0     0.0     0.0     0.0     0.0  \n",
              "1157668     0.0     0.0     0.0     0.0     0.0  \n",
              "1157669     0.0     0.0     0.0     0.0     0.0  \n",
              "\n",
              "[5 rows x 935 columns]"
            ]
          },
          "execution_count": 34,
          "metadata": {},
          "output_type": "execute_result"
        }
      ],
      "source": [
        "# Matrix with row per 'user' and column per 'item'\n",
        "pivot_df = colab_user.pivot(index = 'user_id', columns ='item_id', values = 'rating').fillna(0)\n",
        "pivot_df.head()"
      ]
    },
    {
      "cell_type": "code",
      "execution_count": null,
      "metadata": {
        "id": "wxbEgSAKTuoJ",
        "outputId": "58edfcc7-7662-4e8a-d902-042857885cd1"
      },
      "outputs": [
        {
          "name": "stdout",
          "output_type": "stream",
          "text": [
            "Shape of the pivot table:  (153, 935)\n"
          ]
        }
      ],
      "source": [
        "print('Shape of the pivot table: ', pivot_df.shape)"
      ]
    },
    {
      "cell_type": "markdown",
      "metadata": {
        "id": "OfOC567bTuoJ"
      },
      "source": [
        "* since the above matrix is sparse matrix we will use SVD"
      ]
    },
    {
      "cell_type": "code",
      "execution_count": null,
      "metadata": {
        "id": "kvzERDfGTuoJ"
      },
      "outputs": [],
      "source": [
        "# singular value Decomposition\n",
        "U, sigma, Vt = svds(pivot_df, k = 10)"
      ]
    },
    {
      "cell_type": "code",
      "execution_count": null,
      "metadata": {
        "id": "Z_1lKXSPTuoJ",
        "outputId": "cfdddcaf-3815-4286-b43f-8f2a2da8293a"
      },
      "outputs": [
        {
          "name": "stdout",
          "output_type": "stream",
          "text": [
            "Left singular matrix: \n",
            " [[ 0.08212692 -0.11085993 -0.02080803 ...  0.03396122  0.02312844\n",
            "  -0.06209654]\n",
            " [-0.00175495 -0.06610233 -0.05419357 ...  0.08893727  0.02653784\n",
            "  -0.07224053]\n",
            " [ 0.0069236  -0.03788481 -0.052705   ...  0.06100772  0.06605675\n",
            "  -0.06617123]\n",
            " ...\n",
            " [-0.0169803  -0.09713271  0.02649935 ...  0.02269377 -0.06793078\n",
            "  -0.03797652]\n",
            " [ 0.05415418 -0.08044658 -0.03331956 ...  0.06420999 -0.143236\n",
            "  -0.05206797]\n",
            " [ 0.13778625  0.00773904 -0.0388265  ... -0.01767312 -0.11272339\n",
            "  -0.04220871]]\n"
          ]
        }
      ],
      "source": [
        "print('Left singular matrix: \\n',U)"
      ]
    },
    {
      "cell_type": "code",
      "execution_count": null,
      "metadata": {
        "id": "Qn3F6fJXTuoJ",
        "outputId": "01c2140a-a775-4a6d-8f98-e0425771c67f"
      },
      "outputs": [
        {
          "name": "stdout",
          "output_type": "stream",
          "text": [
            "Sigma: \n",
            " [ 50.26494367  50.37896211  51.2880814   52.25999628  52.65666541\n",
            "  54.1955366   54.46049533  60.59578054  81.27169357 314.05004041]\n"
          ]
        }
      ],
      "source": [
        "print('Sigma: \\n',sigma)"
      ]
    },
    {
      "cell_type": "code",
      "execution_count": null,
      "metadata": {
        "id": "6C11S52qTuoJ",
        "outputId": "14ec52bf-35f2-4193-9a42-9ef68e6859fc"
      },
      "outputs": [
        {
          "name": "stdout",
          "output_type": "stream",
          "text": [
            "Diagonal matrix: \n",
            " [[ 50.26494367   0.           0.           0.           0.\n",
            "    0.           0.           0.           0.           0.        ]\n",
            " [  0.          50.37896211   0.           0.           0.\n",
            "    0.           0.           0.           0.           0.        ]\n",
            " [  0.           0.          51.2880814    0.           0.\n",
            "    0.           0.           0.           0.           0.        ]\n",
            " [  0.           0.           0.          52.25999628   0.\n",
            "    0.           0.           0.           0.           0.        ]\n",
            " [  0.           0.           0.           0.          52.65666541\n",
            "    0.           0.           0.           0.           0.        ]\n",
            " [  0.           0.           0.           0.           0.\n",
            "   54.1955366    0.           0.           0.           0.        ]\n",
            " [  0.           0.           0.           0.           0.\n",
            "    0.          54.46049533   0.           0.           0.        ]\n",
            " [  0.           0.           0.           0.           0.\n",
            "    0.           0.          60.59578054   0.           0.        ]\n",
            " [  0.           0.           0.           0.           0.\n",
            "    0.           0.           0.          81.27169357   0.        ]\n",
            " [  0.           0.           0.           0.           0.\n",
            "    0.           0.           0.           0.         314.05004041]]\n"
          ]
        }
      ],
      "source": [
        "sigma = np.diag(sigma)\n",
        "print('Diagonal matrix: \\n',sigma)"
      ]
    },
    {
      "cell_type": "code",
      "execution_count": null,
      "metadata": {
        "id": "-wX_3_EuTuoJ",
        "outputId": "53615108-2ac7-4eca-9d0e-f3f58718ea5c"
      },
      "outputs": [
        {
          "name": "stdout",
          "output_type": "stream",
          "text": [
            "Right singular matrix: \n",
            " [[ 0.00217613  0.01147994 -0.04909331 ... -0.05947075  0.06525139\n",
            "   0.05320129]\n",
            " [-0.04679549 -0.05282379 -0.05679542 ...  0.03334473 -0.01552509\n",
            "   0.01154763]\n",
            " [-0.04968981 -0.05714301 -0.03260988 ... -0.03011543  0.02401638\n",
            "   0.01832556]\n",
            " ...\n",
            " [ 0.01103171  0.05345037  0.08164779 ...  0.01220345 -0.0081787\n",
            "  -0.00077239]\n",
            " [-0.05180602  0.07230311  0.0426601  ... -0.05426226 -0.02543948\n",
            "  -0.02748412]\n",
            " [-0.02012007 -0.10667099 -0.11253753 ... -0.01671741 -0.00558693\n",
            "  -0.00461814]]\n"
          ]
        }
      ],
      "source": [
        "print('Right singular matrix: \\n',Vt)"
      ]
    },
    {
      "cell_type": "code",
      "execution_count": null,
      "metadata": {
        "id": "54JWrGLWTuoJ",
        "outputId": "0ba20219-7e51-4e70-be58-94c303ed951b"
      },
      "outputs": [
        {
          "data": {
            "text/html": [
              "<div>\n",
              "<style scoped>\n",
              "    .dataframe tbody tr th:only-of-type {\n",
              "        vertical-align: middle;\n",
              "    }\n",
              "\n",
              "    .dataframe tbody tr th {\n",
              "        vertical-align: top;\n",
              "    }\n",
              "\n",
              "    .dataframe thead th {\n",
              "        text-align: right;\n",
              "    }\n",
              "</style>\n",
              "<table border=\"1\" class=\"dataframe\">\n",
              "  <thead>\n",
              "    <tr style=\"text-align: right;\">\n",
              "      <th>item_id</th>\n",
              "      <th>6454</th>\n",
              "      <th>7443</th>\n",
              "      <th>11960</th>\n",
              "      <th>16411</th>\n",
              "      <th>21296</th>\n",
              "      <th>22563</th>\n",
              "      <th>24853</th>\n",
              "      <th>27439</th>\n",
              "      <th>27590</th>\n",
              "      <th>28252</th>\n",
              "      <th>...</th>\n",
              "      <th>154943</th>\n",
              "      <th>154947</th>\n",
              "      <th>155165</th>\n",
              "      <th>155293</th>\n",
              "      <th>155305</th>\n",
              "      <th>155307</th>\n",
              "      <th>155308</th>\n",
              "      <th>155317</th>\n",
              "      <th>155537</th>\n",
              "      <th>155950</th>\n",
              "    </tr>\n",
              "  </thead>\n",
              "  <tbody>\n",
              "    <tr>\n",
              "      <th>0</th>\n",
              "      <td>0.589071</td>\n",
              "      <td>2.858395</td>\n",
              "      <td>1.694496</td>\n",
              "      <td>2.080536</td>\n",
              "      <td>3.239357</td>\n",
              "      <td>1.935973</td>\n",
              "      <td>0.273085</td>\n",
              "      <td>0.517269</td>\n",
              "      <td>1.027343</td>\n",
              "      <td>2.701763</td>\n",
              "      <td>...</td>\n",
              "      <td>-0.229513</td>\n",
              "      <td>0.194170</td>\n",
              "      <td>-0.207258</td>\n",
              "      <td>-0.000986</td>\n",
              "      <td>0.365244</td>\n",
              "      <td>-0.115640</td>\n",
              "      <td>-0.040562</td>\n",
              "      <td>-0.013496</td>\n",
              "      <td>0.571852</td>\n",
              "      <td>0.195836</td>\n",
              "    </tr>\n",
              "    <tr>\n",
              "      <th>1</th>\n",
              "      <td>0.747488</td>\n",
              "      <td>2.825598</td>\n",
              "      <td>3.455855</td>\n",
              "      <td>3.278607</td>\n",
              "      <td>4.545669</td>\n",
              "      <td>2.344455</td>\n",
              "      <td>2.067801</td>\n",
              "      <td>3.824059</td>\n",
              "      <td>1.305063</td>\n",
              "      <td>2.711104</td>\n",
              "      <td>...</td>\n",
              "      <td>0.283490</td>\n",
              "      <td>0.210723</td>\n",
              "      <td>0.112704</td>\n",
              "      <td>0.051560</td>\n",
              "      <td>-0.131914</td>\n",
              "      <td>0.109947</td>\n",
              "      <td>0.156944</td>\n",
              "      <td>0.504861</td>\n",
              "      <td>-0.153369</td>\n",
              "      <td>-0.056747</td>\n",
              "    </tr>\n",
              "    <tr>\n",
              "      <th>2</th>\n",
              "      <td>0.258702</td>\n",
              "      <td>3.519305</td>\n",
              "      <td>3.640874</td>\n",
              "      <td>2.567846</td>\n",
              "      <td>3.920771</td>\n",
              "      <td>2.406094</td>\n",
              "      <td>2.900274</td>\n",
              "      <td>2.518484</td>\n",
              "      <td>1.711094</td>\n",
              "      <td>1.900784</td>\n",
              "      <td>...</td>\n",
              "      <td>-0.034054</td>\n",
              "      <td>0.145233</td>\n",
              "      <td>0.102723</td>\n",
              "      <td>-0.008480</td>\n",
              "      <td>-0.026982</td>\n",
              "      <td>-0.001011</td>\n",
              "      <td>0.134567</td>\n",
              "      <td>-0.405532</td>\n",
              "      <td>-0.178940</td>\n",
              "      <td>-0.129323</td>\n",
              "    </tr>\n",
              "    <tr>\n",
              "      <th>3</th>\n",
              "      <td>0.118566</td>\n",
              "      <td>1.973887</td>\n",
              "      <td>2.536125</td>\n",
              "      <td>2.948343</td>\n",
              "      <td>3.889383</td>\n",
              "      <td>3.582611</td>\n",
              "      <td>2.788135</td>\n",
              "      <td>2.587503</td>\n",
              "      <td>1.327065</td>\n",
              "      <td>2.515729</td>\n",
              "      <td>...</td>\n",
              "      <td>-0.018872</td>\n",
              "      <td>-0.121344</td>\n",
              "      <td>0.035116</td>\n",
              "      <td>0.492923</td>\n",
              "      <td>-0.071481</td>\n",
              "      <td>0.059030</td>\n",
              "      <td>0.089708</td>\n",
              "      <td>0.468347</td>\n",
              "      <td>0.082467</td>\n",
              "      <td>0.133984</td>\n",
              "    </tr>\n",
              "    <tr>\n",
              "      <th>4</th>\n",
              "      <td>0.307232</td>\n",
              "      <td>3.587387</td>\n",
              "      <td>3.019735</td>\n",
              "      <td>2.746210</td>\n",
              "      <td>4.615354</td>\n",
              "      <td>2.771471</td>\n",
              "      <td>3.322406</td>\n",
              "      <td>2.447065</td>\n",
              "      <td>2.276930</td>\n",
              "      <td>1.807978</td>\n",
              "      <td>...</td>\n",
              "      <td>0.205314</td>\n",
              "      <td>-0.039623</td>\n",
              "      <td>0.235925</td>\n",
              "      <td>0.354933</td>\n",
              "      <td>0.218146</td>\n",
              "      <td>0.019886</td>\n",
              "      <td>0.096029</td>\n",
              "      <td>-0.199015</td>\n",
              "      <td>0.253130</td>\n",
              "      <td>0.373905</td>\n",
              "    </tr>\n",
              "  </tbody>\n",
              "</table>\n",
              "<p>5 rows × 935 columns</p>\n",
              "</div>"
            ],
            "text/plain": [
              "item_id    6454      7443      11960     16411     21296     22563     24853   \\\n",
              "0        0.589071  2.858395  1.694496  2.080536  3.239357  1.935973  0.273085   \n",
              "1        0.747488  2.825598  3.455855  3.278607  4.545669  2.344455  2.067801   \n",
              "2        0.258702  3.519305  3.640874  2.567846  3.920771  2.406094  2.900274   \n",
              "3        0.118566  1.973887  2.536125  2.948343  3.889383  3.582611  2.788135   \n",
              "4        0.307232  3.587387  3.019735  2.746210  4.615354  2.771471  3.322406   \n",
              "\n",
              "item_id    27439     27590     28252     ...       154943    154947    155165  \\\n",
              "0        0.517269  1.027343  2.701763    ...    -0.229513  0.194170 -0.207258   \n",
              "1        3.824059  1.305063  2.711104    ...     0.283490  0.210723  0.112704   \n",
              "2        2.518484  1.711094  1.900784    ...    -0.034054  0.145233  0.102723   \n",
              "3        2.587503  1.327065  2.515729    ...    -0.018872 -0.121344  0.035116   \n",
              "4        2.447065  2.276930  1.807978    ...     0.205314 -0.039623  0.235925   \n",
              "\n",
              "item_id    155293    155305    155307    155308    155317    155537    155950  \n",
              "0       -0.000986  0.365244 -0.115640 -0.040562 -0.013496  0.571852  0.195836  \n",
              "1        0.051560 -0.131914  0.109947  0.156944  0.504861 -0.153369 -0.056747  \n",
              "2       -0.008480 -0.026982 -0.001011  0.134567 -0.405532 -0.178940 -0.129323  \n",
              "3        0.492923 -0.071481  0.059030  0.089708  0.468347  0.082467  0.133984  \n",
              "4        0.354933  0.218146  0.019886  0.096029 -0.199015  0.253130  0.373905  \n",
              "\n",
              "[5 rows x 935 columns]"
            ]
          },
          "execution_count": 41,
          "metadata": {},
          "output_type": "execute_result"
        }
      ],
      "source": [
        "# predicted ratings\n",
        "all_user_predicted_ratings = np.dot(np.dot(U, sigma), Vt)\n",
        "# Convert predicted ratings to dataframe\n",
        "preds_df = pd.DataFrame(all_user_predicted_ratings, columns = pivot_df.columns)\n",
        "preds_df.head()"
      ]
    },
    {
      "cell_type": "code",
      "execution_count": null,
      "metadata": {
        "id": "qL4UxW5RTuoK"
      },
      "outputs": [],
      "source": [
        "# recommend items with highest predicted ratings\n",
        "def recommend_items(user_id, pivot_df, preds_df, num_recommendations):\n",
        "    sorted_user_ratings = pivot_df.iloc[user_id].sort_values(ascending=False)\n",
        "    sorted_user_predictions = preds_df.iloc[user_id].sort_values(ascending=False)\n",
        "    temp = pd.concat([sorted_user_ratings, sorted_user_predictions], axis=1)\n",
        "    temp.index.name = 'Recommended Items'\n",
        "    temp.columns = ['user_ratings', 'user_predictions']\n",
        "    temp = temp.loc[temp.user_ratings == 0]\n",
        "    temp = temp.sort_values('user_predictions', ascending=False)\n",
        "    print('\\nBelow are the recommended items for user(user_id = {}):\\n'.format(user_id))\n",
        "    print(temp.head(num_recommendations))"
      ]
    },
    {
      "cell_type": "code",
      "execution_count": null,
      "metadata": {
        "id": "_Hn1NmHkTuoK",
        "outputId": "d3081b48-7245-4976-fae0-cae27e611369"
      },
      "outputs": [
        {
          "name": "stdout",
          "output_type": "stream",
          "text": [
            "\n",
            "Below are the recommended items for user(user_id = 10):\n",
            "\n",
            "                   user_ratings  user_predictions\n",
            "Recommended Items                                \n",
            "67022                       0.0          1.906301\n",
            "70538                       0.0          1.787946\n",
            "153501                      0.0          1.705090\n",
            "144541                      0.0          1.668185\n",
            "67194                       0.0          1.645234\n"
          ]
        }
      ],
      "source": [
        "user_id=10\n",
        "num_recommendations = 5\n",
        "recommend_items(user_id, pivot_df, preds_df, num_recommendations)"
      ]
    },
    {
      "cell_type": "code",
      "execution_count": null,
      "metadata": {
        "id": "vYDNgcgQTuoK",
        "outputId": "0179da4e-f42e-4e72-a8b5-623ea8bd8e3c"
      },
      "outputs": [
        {
          "name": "stdout",
          "output_type": "stream",
          "text": [
            "\n",
            "Below are the recommended items for user(user_id = 100):\n",
            "\n",
            "                   user_ratings  user_predictions\n",
            "Recommended Items                                \n",
            "70538                       0.0          3.581810\n",
            "62447                       0.0          3.386605\n",
            "22563                       0.0          3.086058\n",
            "16411                       0.0          2.856255\n",
            "58990                       0.0          2.734514\n"
          ]
        }
      ],
      "source": [
        "user_id=100\n",
        "num_recommendations = 5\n",
        "recommend_items(user_id, pivot_df, preds_df, num_recommendations)"
      ]
    },
    {
      "cell_type": "code",
      "execution_count": null,
      "metadata": {
        "id": "YK69wGN2TuoK",
        "outputId": "7369d307-be1e-4d4d-901f-477a0575e4d7"
      },
      "outputs": [
        {
          "name": "stdout",
          "output_type": "stream",
          "text": [
            "\n",
            "Below are the recommended items for user(user_id = 29):\n",
            "\n",
            "                   user_ratings  user_predictions\n",
            "Recommended Items                                \n",
            "59176                       0.0          3.089371\n",
            "80841                       0.0          2.897063\n",
            "40899                       0.0          2.468870\n",
            "78224                       0.0          2.357859\n",
            "69630                       0.0          2.295194\n"
          ]
        }
      ],
      "source": [
        "user_id=29\n",
        "num_recommendations = 5\n",
        "recommend_items(user_id, pivot_df, preds_df, num_recommendations)"
      ]
    },
    {
      "cell_type": "markdown",
      "metadata": {
        "id": "AHeW-wLpTuoK"
      },
      "source": [
        "#  Evaluation of Collaborative Recommendation Model"
      ]
    },
    {
      "cell_type": "code",
      "execution_count": null,
      "metadata": {
        "id": "qSUtogYbTuoK",
        "outputId": "b9d0328e-08f6-453c-b846-9f752c9b4dd2"
      },
      "outputs": [
        {
          "data": {
            "text/html": [
              "<div>\n",
              "<style scoped>\n",
              "    .dataframe tbody tr th:only-of-type {\n",
              "        vertical-align: middle;\n",
              "    }\n",
              "\n",
              "    .dataframe tbody tr th {\n",
              "        vertical-align: top;\n",
              "    }\n",
              "\n",
              "    .dataframe thead th {\n",
              "        text-align: right;\n",
              "    }\n",
              "</style>\n",
              "<table border=\"1\" class=\"dataframe\">\n",
              "  <thead>\n",
              "    <tr style=\"text-align: right;\">\n",
              "      <th>item_id</th>\n",
              "      <th>6454</th>\n",
              "      <th>7443</th>\n",
              "      <th>11960</th>\n",
              "      <th>16411</th>\n",
              "      <th>21296</th>\n",
              "      <th>22563</th>\n",
              "      <th>24853</th>\n",
              "      <th>27439</th>\n",
              "      <th>27590</th>\n",
              "      <th>28252</th>\n",
              "      <th>...</th>\n",
              "      <th>154943</th>\n",
              "      <th>154947</th>\n",
              "      <th>155165</th>\n",
              "      <th>155293</th>\n",
              "      <th>155305</th>\n",
              "      <th>155307</th>\n",
              "      <th>155308</th>\n",
              "      <th>155317</th>\n",
              "      <th>155537</th>\n",
              "      <th>155950</th>\n",
              "    </tr>\n",
              "    <tr>\n",
              "      <th>user_id</th>\n",
              "      <th></th>\n",
              "      <th></th>\n",
              "      <th></th>\n",
              "      <th></th>\n",
              "      <th></th>\n",
              "      <th></th>\n",
              "      <th></th>\n",
              "      <th></th>\n",
              "      <th></th>\n",
              "      <th></th>\n",
              "      <th></th>\n",
              "      <th></th>\n",
              "      <th></th>\n",
              "      <th></th>\n",
              "      <th></th>\n",
              "      <th></th>\n",
              "      <th></th>\n",
              "      <th></th>\n",
              "      <th></th>\n",
              "      <th></th>\n",
              "      <th></th>\n",
              "    </tr>\n",
              "  </thead>\n",
              "  <tbody>\n",
              "    <tr>\n",
              "      <th>1157633</th>\n",
              "      <td>0.0</td>\n",
              "      <td>4.0</td>\n",
              "      <td>0.0</td>\n",
              "      <td>0.0</td>\n",
              "      <td>5.0</td>\n",
              "      <td>0.0</td>\n",
              "      <td>0.0</td>\n",
              "      <td>0.0</td>\n",
              "      <td>0.0</td>\n",
              "      <td>0.0</td>\n",
              "      <td>...</td>\n",
              "      <td>0.0</td>\n",
              "      <td>0.0</td>\n",
              "      <td>0.0</td>\n",
              "      <td>0.0</td>\n",
              "      <td>0.0</td>\n",
              "      <td>0.0</td>\n",
              "      <td>0.0</td>\n",
              "      <td>0.0</td>\n",
              "      <td>0.0</td>\n",
              "      <td>0.0</td>\n",
              "    </tr>\n",
              "    <tr>\n",
              "      <th>1157639</th>\n",
              "      <td>0.0</td>\n",
              "      <td>2.0</td>\n",
              "      <td>0.0</td>\n",
              "      <td>5.0</td>\n",
              "      <td>5.0</td>\n",
              "      <td>0.0</td>\n",
              "      <td>1.0</td>\n",
              "      <td>5.0</td>\n",
              "      <td>0.0</td>\n",
              "      <td>0.0</td>\n",
              "      <td>...</td>\n",
              "      <td>0.0</td>\n",
              "      <td>0.0</td>\n",
              "      <td>0.0</td>\n",
              "      <td>0.0</td>\n",
              "      <td>0.0</td>\n",
              "      <td>0.0</td>\n",
              "      <td>0.0</td>\n",
              "      <td>0.0</td>\n",
              "      <td>0.0</td>\n",
              "      <td>0.0</td>\n",
              "    </tr>\n",
              "    <tr>\n",
              "      <th>1157666</th>\n",
              "      <td>0.0</td>\n",
              "      <td>4.0</td>\n",
              "      <td>5.0</td>\n",
              "      <td>3.0</td>\n",
              "      <td>5.0</td>\n",
              "      <td>0.0</td>\n",
              "      <td>2.0</td>\n",
              "      <td>3.0</td>\n",
              "      <td>2.0</td>\n",
              "      <td>5.0</td>\n",
              "      <td>...</td>\n",
              "      <td>0.0</td>\n",
              "      <td>0.0</td>\n",
              "      <td>0.0</td>\n",
              "      <td>0.0</td>\n",
              "      <td>0.0</td>\n",
              "      <td>0.0</td>\n",
              "      <td>0.0</td>\n",
              "      <td>0.0</td>\n",
              "      <td>0.0</td>\n",
              "      <td>0.0</td>\n",
              "    </tr>\n",
              "    <tr>\n",
              "      <th>1157668</th>\n",
              "      <td>0.0</td>\n",
              "      <td>5.0</td>\n",
              "      <td>3.0</td>\n",
              "      <td>5.0</td>\n",
              "      <td>5.0</td>\n",
              "      <td>5.0</td>\n",
              "      <td>5.0</td>\n",
              "      <td>5.0</td>\n",
              "      <td>0.0</td>\n",
              "      <td>0.0</td>\n",
              "      <td>...</td>\n",
              "      <td>0.0</td>\n",
              "      <td>0.0</td>\n",
              "      <td>0.0</td>\n",
              "      <td>0.0</td>\n",
              "      <td>0.0</td>\n",
              "      <td>0.0</td>\n",
              "      <td>0.0</td>\n",
              "      <td>0.0</td>\n",
              "      <td>0.0</td>\n",
              "      <td>0.0</td>\n",
              "    </tr>\n",
              "    <tr>\n",
              "      <th>1157669</th>\n",
              "      <td>0.0</td>\n",
              "      <td>4.0</td>\n",
              "      <td>5.0</td>\n",
              "      <td>0.0</td>\n",
              "      <td>5.0</td>\n",
              "      <td>0.0</td>\n",
              "      <td>4.0</td>\n",
              "      <td>0.0</td>\n",
              "      <td>4.0</td>\n",
              "      <td>0.0</td>\n",
              "      <td>...</td>\n",
              "      <td>0.0</td>\n",
              "      <td>0.0</td>\n",
              "      <td>0.0</td>\n",
              "      <td>0.0</td>\n",
              "      <td>0.0</td>\n",
              "      <td>0.0</td>\n",
              "      <td>0.0</td>\n",
              "      <td>0.0</td>\n",
              "      <td>0.0</td>\n",
              "      <td>0.0</td>\n",
              "    </tr>\n",
              "  </tbody>\n",
              "</table>\n",
              "<p>5 rows × 935 columns</p>\n",
              "</div>"
            ],
            "text/plain": [
              "item_id  6454    7443    11960   16411   21296   22563   24853   27439   \\\n",
              "user_id                                                                   \n",
              "1157633     0.0     4.0     0.0     0.0     5.0     0.0     0.0     0.0   \n",
              "1157639     0.0     2.0     0.0     5.0     5.0     0.0     1.0     5.0   \n",
              "1157666     0.0     4.0     5.0     3.0     5.0     0.0     2.0     3.0   \n",
              "1157668     0.0     5.0     3.0     5.0     5.0     5.0     5.0     5.0   \n",
              "1157669     0.0     4.0     5.0     0.0     5.0     0.0     4.0     0.0   \n",
              "\n",
              "item_id  27590   28252    ...    154943  154947  155165  155293  155305  \\\n",
              "user_id                   ...                                             \n",
              "1157633     0.0     0.0   ...       0.0     0.0     0.0     0.0     0.0   \n",
              "1157639     0.0     0.0   ...       0.0     0.0     0.0     0.0     0.0   \n",
              "1157666     2.0     5.0   ...       0.0     0.0     0.0     0.0     0.0   \n",
              "1157668     0.0     0.0   ...       0.0     0.0     0.0     0.0     0.0   \n",
              "1157669     4.0     0.0   ...       0.0     0.0     0.0     0.0     0.0   \n",
              "\n",
              "item_id  155307  155308  155317  155537  155950  \n",
              "user_id                                          \n",
              "1157633     0.0     0.0     0.0     0.0     0.0  \n",
              "1157639     0.0     0.0     0.0     0.0     0.0  \n",
              "1157666     0.0     0.0     0.0     0.0     0.0  \n",
              "1157668     0.0     0.0     0.0     0.0     0.0  \n",
              "1157669     0.0     0.0     0.0     0.0     0.0  \n",
              "\n",
              "[5 rows x 935 columns]"
            ]
          },
          "execution_count": 46,
          "metadata": {},
          "output_type": "execute_result"
        }
      ],
      "source": [
        "# Actual Ratings given by users\n",
        "ratings_matrix.head()"
      ]
    },
    {
      "cell_type": "code",
      "execution_count": null,
      "metadata": {
        "id": "TUA2FPRsTuoL",
        "outputId": "0a328677-d6a4-4161-cff8-86db5d6d70ef"
      },
      "outputs": [
        {
          "data": {
            "text/plain": [
              "item_id\n",
              "6454     0.490196\n",
              "7443     2.588235\n",
              "11960    2.771242\n",
              "16411    2.496732\n",
              "21296    3.464052\n",
              "dtype: float64"
            ]
          },
          "execution_count": 47,
          "metadata": {},
          "output_type": "execute_result"
        }
      ],
      "source": [
        "# Average actual rating for each item\n",
        "ratings_matrix.mean().head()"
      ]
    },
    {
      "cell_type": "code",
      "execution_count": null,
      "metadata": {
        "id": "k92To4cRTuoL",
        "outputId": "eddfd47b-cd96-484d-efa2-17ecdf2912bf"
      },
      "outputs": [
        {
          "data": {
            "text/html": [
              "<div>\n",
              "<style scoped>\n",
              "    .dataframe tbody tr th:only-of-type {\n",
              "        vertical-align: middle;\n",
              "    }\n",
              "\n",
              "    .dataframe tbody tr th {\n",
              "        vertical-align: top;\n",
              "    }\n",
              "\n",
              "    .dataframe thead th {\n",
              "        text-align: right;\n",
              "    }\n",
              "</style>\n",
              "<table border=\"1\" class=\"dataframe\">\n",
              "  <thead>\n",
              "    <tr style=\"text-align: right;\">\n",
              "      <th>item_id</th>\n",
              "      <th>6454</th>\n",
              "      <th>7443</th>\n",
              "      <th>11960</th>\n",
              "      <th>16411</th>\n",
              "      <th>21296</th>\n",
              "      <th>22563</th>\n",
              "      <th>24853</th>\n",
              "      <th>27439</th>\n",
              "      <th>27590</th>\n",
              "      <th>28252</th>\n",
              "      <th>...</th>\n",
              "      <th>154943</th>\n",
              "      <th>154947</th>\n",
              "      <th>155165</th>\n",
              "      <th>155293</th>\n",
              "      <th>155305</th>\n",
              "      <th>155307</th>\n",
              "      <th>155308</th>\n",
              "      <th>155317</th>\n",
              "      <th>155537</th>\n",
              "      <th>155950</th>\n",
              "    </tr>\n",
              "  </thead>\n",
              "  <tbody>\n",
              "    <tr>\n",
              "      <th>0</th>\n",
              "      <td>0.589071</td>\n",
              "      <td>2.858395</td>\n",
              "      <td>1.694496</td>\n",
              "      <td>2.080536</td>\n",
              "      <td>3.239357</td>\n",
              "      <td>1.935973</td>\n",
              "      <td>0.273085</td>\n",
              "      <td>0.517269</td>\n",
              "      <td>1.027343</td>\n",
              "      <td>2.701763</td>\n",
              "      <td>...</td>\n",
              "      <td>-0.229513</td>\n",
              "      <td>0.194170</td>\n",
              "      <td>-0.207258</td>\n",
              "      <td>-0.000986</td>\n",
              "      <td>0.365244</td>\n",
              "      <td>-0.115640</td>\n",
              "      <td>-0.040562</td>\n",
              "      <td>-0.013496</td>\n",
              "      <td>0.571852</td>\n",
              "      <td>0.195836</td>\n",
              "    </tr>\n",
              "    <tr>\n",
              "      <th>1</th>\n",
              "      <td>0.747488</td>\n",
              "      <td>2.825598</td>\n",
              "      <td>3.455855</td>\n",
              "      <td>3.278607</td>\n",
              "      <td>4.545669</td>\n",
              "      <td>2.344455</td>\n",
              "      <td>2.067801</td>\n",
              "      <td>3.824059</td>\n",
              "      <td>1.305063</td>\n",
              "      <td>2.711104</td>\n",
              "      <td>...</td>\n",
              "      <td>0.283490</td>\n",
              "      <td>0.210723</td>\n",
              "      <td>0.112704</td>\n",
              "      <td>0.051560</td>\n",
              "      <td>-0.131914</td>\n",
              "      <td>0.109947</td>\n",
              "      <td>0.156944</td>\n",
              "      <td>0.504861</td>\n",
              "      <td>-0.153369</td>\n",
              "      <td>-0.056747</td>\n",
              "    </tr>\n",
              "    <tr>\n",
              "      <th>2</th>\n",
              "      <td>0.258702</td>\n",
              "      <td>3.519305</td>\n",
              "      <td>3.640874</td>\n",
              "      <td>2.567846</td>\n",
              "      <td>3.920771</td>\n",
              "      <td>2.406094</td>\n",
              "      <td>2.900274</td>\n",
              "      <td>2.518484</td>\n",
              "      <td>1.711094</td>\n",
              "      <td>1.900784</td>\n",
              "      <td>...</td>\n",
              "      <td>-0.034054</td>\n",
              "      <td>0.145233</td>\n",
              "      <td>0.102723</td>\n",
              "      <td>-0.008480</td>\n",
              "      <td>-0.026982</td>\n",
              "      <td>-0.001011</td>\n",
              "      <td>0.134567</td>\n",
              "      <td>-0.405532</td>\n",
              "      <td>-0.178940</td>\n",
              "      <td>-0.129323</td>\n",
              "    </tr>\n",
              "    <tr>\n",
              "      <th>3</th>\n",
              "      <td>0.118566</td>\n",
              "      <td>1.973887</td>\n",
              "      <td>2.536125</td>\n",
              "      <td>2.948343</td>\n",
              "      <td>3.889383</td>\n",
              "      <td>3.582611</td>\n",
              "      <td>2.788135</td>\n",
              "      <td>2.587503</td>\n",
              "      <td>1.327065</td>\n",
              "      <td>2.515729</td>\n",
              "      <td>...</td>\n",
              "      <td>-0.018872</td>\n",
              "      <td>-0.121344</td>\n",
              "      <td>0.035116</td>\n",
              "      <td>0.492923</td>\n",
              "      <td>-0.071481</td>\n",
              "      <td>0.059030</td>\n",
              "      <td>0.089708</td>\n",
              "      <td>0.468347</td>\n",
              "      <td>0.082467</td>\n",
              "      <td>0.133984</td>\n",
              "    </tr>\n",
              "    <tr>\n",
              "      <th>4</th>\n",
              "      <td>0.307232</td>\n",
              "      <td>3.587387</td>\n",
              "      <td>3.019735</td>\n",
              "      <td>2.746210</td>\n",
              "      <td>4.615354</td>\n",
              "      <td>2.771471</td>\n",
              "      <td>3.322406</td>\n",
              "      <td>2.447065</td>\n",
              "      <td>2.276930</td>\n",
              "      <td>1.807978</td>\n",
              "      <td>...</td>\n",
              "      <td>0.205314</td>\n",
              "      <td>-0.039623</td>\n",
              "      <td>0.235925</td>\n",
              "      <td>0.354933</td>\n",
              "      <td>0.218146</td>\n",
              "      <td>0.019886</td>\n",
              "      <td>0.096029</td>\n",
              "      <td>-0.199015</td>\n",
              "      <td>0.253130</td>\n",
              "      <td>0.373905</td>\n",
              "    </tr>\n",
              "  </tbody>\n",
              "</table>\n",
              "<p>5 rows × 935 columns</p>\n",
              "</div>"
            ],
            "text/plain": [
              "item_id    6454      7443      11960     16411     21296     22563     24853   \\\n",
              "0        0.589071  2.858395  1.694496  2.080536  3.239357  1.935973  0.273085   \n",
              "1        0.747488  2.825598  3.455855  3.278607  4.545669  2.344455  2.067801   \n",
              "2        0.258702  3.519305  3.640874  2.567846  3.920771  2.406094  2.900274   \n",
              "3        0.118566  1.973887  2.536125  2.948343  3.889383  3.582611  2.788135   \n",
              "4        0.307232  3.587387  3.019735  2.746210  4.615354  2.771471  3.322406   \n",
              "\n",
              "item_id    27439     27590     28252     ...       154943    154947    155165  \\\n",
              "0        0.517269  1.027343  2.701763    ...    -0.229513  0.194170 -0.207258   \n",
              "1        3.824059  1.305063  2.711104    ...     0.283490  0.210723  0.112704   \n",
              "2        2.518484  1.711094  1.900784    ...    -0.034054  0.145233  0.102723   \n",
              "3        2.587503  1.327065  2.515729    ...    -0.018872 -0.121344  0.035116   \n",
              "4        2.447065  2.276930  1.807978    ...     0.205314 -0.039623  0.235925   \n",
              "\n",
              "item_id    155293    155305    155307    155308    155317    155537    155950  \n",
              "0       -0.000986  0.365244 -0.115640 -0.040562 -0.013496  0.571852  0.195836  \n",
              "1        0.051560 -0.131914  0.109947  0.156944  0.504861 -0.153369 -0.056747  \n",
              "2       -0.008480 -0.026982 -0.001011  0.134567 -0.405532 -0.178940 -0.129323  \n",
              "3        0.492923 -0.071481  0.059030  0.089708  0.468347  0.082467  0.133984  \n",
              "4        0.354933  0.218146  0.019886  0.096029 -0.199015  0.253130  0.373905  \n",
              "\n",
              "[5 rows x 935 columns]"
            ]
          },
          "execution_count": 48,
          "metadata": {},
          "output_type": "execute_result"
        }
      ],
      "source": [
        "# predicted ratings\n",
        "preds_df.head()"
      ]
    },
    {
      "cell_type": "code",
      "execution_count": null,
      "metadata": {
        "id": "oA5gC2sSTuoL",
        "outputId": "93496343-60da-4c9e-868c-bcbb9449a629"
      },
      "outputs": [
        {
          "data": {
            "text/plain": [
              "item_id\n",
              "6454     0.514340\n",
              "7443     2.512677\n",
              "11960    2.701179\n",
              "16411    2.486463\n",
              "21296    3.431553\n",
              "dtype: float64"
            ]
          },
          "execution_count": 49,
          "metadata": {},
          "output_type": "execute_result"
        }
      ],
      "source": [
        "# Average predicted ratings for each item\n",
        "preds_df.mean().head()"
      ]
    },
    {
      "cell_type": "code",
      "execution_count": null,
      "metadata": {
        "id": "cKmwMlGsTuoL",
        "outputId": "a3e88f67-3288-4edf-a050-f9dec915e69c"
      },
      "outputs": [
        {
          "name": "stdout",
          "output_type": "stream",
          "text": [
            "(935, 2)\n"
          ]
        },
        {
          "data": {
            "text/html": [
              "<div>\n",
              "<style scoped>\n",
              "    .dataframe tbody tr th:only-of-type {\n",
              "        vertical-align: middle;\n",
              "    }\n",
              "\n",
              "    .dataframe tbody tr th {\n",
              "        vertical-align: top;\n",
              "    }\n",
              "\n",
              "    .dataframe thead th {\n",
              "        text-align: right;\n",
              "    }\n",
              "</style>\n",
              "<table border=\"1\" class=\"dataframe\">\n",
              "  <thead>\n",
              "    <tr style=\"text-align: right;\">\n",
              "      <th></th>\n",
              "      <th>Avg_actual_ratings</th>\n",
              "      <th>Avg_predicted_ratings</th>\n",
              "    </tr>\n",
              "    <tr>\n",
              "      <th>item_id</th>\n",
              "      <th></th>\n",
              "      <th></th>\n",
              "    </tr>\n",
              "  </thead>\n",
              "  <tbody>\n",
              "    <tr>\n",
              "      <th>6454</th>\n",
              "      <td>0.490196</td>\n",
              "      <td>0.514340</td>\n",
              "    </tr>\n",
              "    <tr>\n",
              "      <th>7443</th>\n",
              "      <td>2.588235</td>\n",
              "      <td>2.512677</td>\n",
              "    </tr>\n",
              "    <tr>\n",
              "      <th>11960</th>\n",
              "      <td>2.771242</td>\n",
              "      <td>2.701179</td>\n",
              "    </tr>\n",
              "    <tr>\n",
              "      <th>16411</th>\n",
              "      <td>2.496732</td>\n",
              "      <td>2.486463</td>\n",
              "    </tr>\n",
              "    <tr>\n",
              "      <th>21296</th>\n",
              "      <td>3.464052</td>\n",
              "      <td>3.431553</td>\n",
              "    </tr>\n",
              "  </tbody>\n",
              "</table>\n",
              "</div>"
            ],
            "text/plain": [
              "         Avg_actual_ratings  Avg_predicted_ratings\n",
              "item_id                                           \n",
              "6454               0.490196               0.514340\n",
              "7443               2.588235               2.512677\n",
              "11960              2.771242               2.701179\n",
              "16411              2.496732               2.486463\n",
              "21296              3.464052               3.431553"
            ]
          },
          "execution_count": 50,
          "metadata": {},
          "output_type": "execute_result"
        }
      ],
      "source": [
        "rmse_df = pd.concat([ratings_matrix.mean(), preds_df.mean()], axis=1)\n",
        "rmse_df.columns = ['Avg_actual_ratings', 'Avg_predicted_ratings']\n",
        "print(rmse_df.shape)\n",
        "rmse_df.head()"
      ]
    },
    {
      "cell_type": "code",
      "execution_count": null,
      "metadata": {
        "id": "ktY4QLljTuoL",
        "outputId": "b9e88c89-ac72-4a41-b365-78312b5df7d5"
      },
      "outputs": [
        {
          "name": "stdout",
          "output_type": "stream",
          "text": [
            "\n",
            "RMSE SVD Model = 0.01945 \n",
            "\n"
          ]
        }
      ],
      "source": [
        "RMSE = round((((rmse_df.Avg_actual_ratings - rmse_df.Avg_predicted_ratings) ** 2).mean() ** 0.5), 5)\n",
        "print('\\nRMSE SVD Model = {} \\n'.format(RMSE))"
      ]
    },
    {
      "cell_type": "markdown",
      "metadata": {
        "id": "roi_9ilxTuoM"
      },
      "source": [
        "#  Getting Top - N   (N=5) Recommendations"
      ]
    },
    {
      "cell_type": "code",
      "execution_count": null,
      "metadata": {
        "id": "QFTf-nzcTuoM",
        "outputId": "f3bc6d1b-5f78-4570-c63a-9282670c17ef"
      },
      "outputs": [
        {
          "name": "stdout",
          "output_type": "stream",
          "text": [
            "\n",
            "Below are the recommended items for user(user_id = 9):\n",
            "\n",
            "                   user_ratings  user_predictions\n",
            "Recommended Items                                \n",
            "62447                       0.0          3.426162\n",
            "28967                       0.0          3.071212\n",
            "70538                       0.0          3.064297\n",
            "76049                       0.0          3.017582\n",
            "34937                       0.0          2.717285\n"
          ]
        }
      ],
      "source": [
        "# enter user_id and numof recommondations\n",
        "user_id= 9\n",
        "num_recommendations = 5\n",
        "recommend_items(user_id, pivot_df, preds_df, num_recommendations)"
      ]
    }
  ],
  "metadata": {
    "kernelspec": {
      "display_name": "Python 3",
      "language": "python",
      "name": "python3"
    },
    "language_info": {
      "codemirror_mode": {
        "name": "ipython",
        "version": 3
      },
      "file_extension": ".py",
      "mimetype": "text/x-python",
      "name": "python",
      "nbconvert_exporter": "python",
      "pygments_lexer": "ipython3",
      "version": "3.6.4"
    },
    "toc": {
      "base_numbering": 1,
      "nav_menu": {},
      "number_sections": true,
      "sideBar": true,
      "skip_h1_title": false,
      "title_cell": "Table of Contents",
      "title_sidebar": "Contents",
      "toc_cell": true,
      "toc_position": {
        "height": "559px",
        "left": "143px",
        "top": "240.6px",
        "width": "307px"
      },
      "toc_section_display": true,
      "toc_window_display": false
    },
    "colab": {
      "provenance": []
    }
  },
  "nbformat": 4,
  "nbformat_minor": 0
}